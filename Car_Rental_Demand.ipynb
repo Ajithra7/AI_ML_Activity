{
 "cells": [
  {
   "cell_type": "markdown",
   "id": "a8242a64",
   "metadata": {},
   "source": [
    "Team - Ajithra, Amal, Daina, Riya"
   ]
  },
  {
   "cell_type": "markdown",
   "id": "85f4449e",
   "metadata": {},
   "source": [
    "Import Necesasary Libraries"
   ]
  },
  {
   "cell_type": "code",
   "execution_count": 1,
   "id": "1384df13",
   "metadata": {},
   "outputs": [],
   "source": [
    "import numpy as np\n",
    "import pandas as pd\n",
    "import matplotlib.pyplot as plt\n",
    "import seaborn as sns\n",
    "import datetime"
   ]
  },
  {
   "cell_type": "markdown",
   "id": "db0e7449",
   "metadata": {},
   "source": [
    "load and read data"
   ]
  },
  {
   "cell_type": "code",
   "execution_count": 2,
   "id": "3b17fbe4",
   "metadata": {},
   "outputs": [],
   "source": [
    "train=pd.read_csv(\"train_E1GspfA.csv\")"
   ]
  },
  {
   "cell_type": "code",
   "execution_count": 3,
   "id": "88a1e11f",
   "metadata": {
    "scrolled": true
   },
   "outputs": [
    {
     "data": {
      "text/html": [
       "<div>\n",
       "<style scoped>\n",
       "    .dataframe tbody tr th:only-of-type {\n",
       "        vertical-align: middle;\n",
       "    }\n",
       "\n",
       "    .dataframe tbody tr th {\n",
       "        vertical-align: top;\n",
       "    }\n",
       "\n",
       "    .dataframe thead th {\n",
       "        text-align: right;\n",
       "    }\n",
       "</style>\n",
       "<table border=\"1\" class=\"dataframe\">\n",
       "  <thead>\n",
       "    <tr style=\"text-align: right;\">\n",
       "      <th></th>\n",
       "      <th>date</th>\n",
       "      <th>hour</th>\n",
       "      <th>demand</th>\n",
       "    </tr>\n",
       "  </thead>\n",
       "  <tbody>\n",
       "    <tr>\n",
       "      <th>0</th>\n",
       "      <td>2018-08-18</td>\n",
       "      <td>9</td>\n",
       "      <td>91</td>\n",
       "    </tr>\n",
       "    <tr>\n",
       "      <th>1</th>\n",
       "      <td>2018-08-18</td>\n",
       "      <td>10</td>\n",
       "      <td>21</td>\n",
       "    </tr>\n",
       "    <tr>\n",
       "      <th>2</th>\n",
       "      <td>2018-08-18</td>\n",
       "      <td>13</td>\n",
       "      <td>23</td>\n",
       "    </tr>\n",
       "    <tr>\n",
       "      <th>3</th>\n",
       "      <td>2018-08-18</td>\n",
       "      <td>14</td>\n",
       "      <td>104</td>\n",
       "    </tr>\n",
       "    <tr>\n",
       "      <th>4</th>\n",
       "      <td>2018-08-18</td>\n",
       "      <td>15</td>\n",
       "      <td>81</td>\n",
       "    </tr>\n",
       "  </tbody>\n",
       "</table>\n",
       "</div>"
      ],
      "text/plain": [
       "         date  hour  demand\n",
       "0  2018-08-18     9      91\n",
       "1  2018-08-18    10      21\n",
       "2  2018-08-18    13      23\n",
       "3  2018-08-18    14     104\n",
       "4  2018-08-18    15      81"
      ]
     },
     "execution_count": 3,
     "metadata": {},
     "output_type": "execute_result"
    }
   ],
   "source": [
    "train.head()"
   ]
  },
  {
   "cell_type": "markdown",
   "id": "7485d2b9",
   "metadata": {},
   "source": [
    "Understand the data"
   ]
  },
  {
   "cell_type": "code",
   "execution_count": 4,
   "id": "c6a3301a",
   "metadata": {},
   "outputs": [
    {
     "data": {
      "text/plain": [
       "date      object\n",
       "hour       int64\n",
       "demand     int64\n",
       "dtype: object"
      ]
     },
     "execution_count": 4,
     "metadata": {},
     "output_type": "execute_result"
    }
   ],
   "source": [
    "train.dtypes"
   ]
  },
  {
   "cell_type": "code",
   "execution_count": 5,
   "id": "afe8b017",
   "metadata": {},
   "outputs": [
    {
     "name": "stdout",
     "output_type": "stream",
     "text": [
      "<class 'pandas.core.frame.DataFrame'>\n",
      "RangeIndex: 18247 entries, 0 to 18246\n",
      "Data columns (total 3 columns):\n",
      " #   Column  Non-Null Count  Dtype \n",
      "---  ------  --------------  ----- \n",
      " 0   date    18247 non-null  object\n",
      " 1   hour    18247 non-null  int64 \n",
      " 2   demand  18247 non-null  int64 \n",
      "dtypes: int64(2), object(1)\n",
      "memory usage: 427.8+ KB\n"
     ]
    }
   ],
   "source": [
    "train.info()"
   ]
  },
  {
   "cell_type": "code",
   "execution_count": 6,
   "id": "a36186c8",
   "metadata": {},
   "outputs": [
    {
     "data": {
      "text/plain": [
       "(18247, 3)"
      ]
     },
     "execution_count": 6,
     "metadata": {},
     "output_type": "execute_result"
    }
   ],
   "source": [
    "train.shape"
   ]
  },
  {
   "cell_type": "code",
   "execution_count": 7,
   "id": "7be78f7a",
   "metadata": {},
   "outputs": [
    {
     "data": {
      "text/plain": [
       "0"
      ]
     },
     "execution_count": 7,
     "metadata": {},
     "output_type": "execute_result"
    }
   ],
   "source": [
    "train.duplicated().sum()"
   ]
  },
  {
   "cell_type": "markdown",
   "id": "7a9242b2",
   "metadata": {},
   "source": [
    "Extract relevant features from the given data for prediction"
   ]
  },
  {
   "cell_type": "code",
   "execution_count": 8,
   "id": "c9b78ae3",
   "metadata": {},
   "outputs": [],
   "source": [
    "# Convert objective datatype of date to datetime format\n",
    "train['date'] = pd.to_datetime(train['date'],errors = 'coerce') "
   ]
  },
  {
   "cell_type": "code",
   "execution_count": 9,
   "id": "4ac660df",
   "metadata": {},
   "outputs": [],
   "source": [
    "# decompose date variable into year, month and day\n",
    "train['year'] = train['date'].dt.year\n",
    "train['month'] = train['date'].dt.month\n",
    "train['day'] = train['date'].dt.day"
   ]
  },
  {
   "cell_type": "code",
   "execution_count": 10,
   "id": "633c542e",
   "metadata": {},
   "outputs": [
    {
     "data": {
      "text/html": [
       "<div>\n",
       "<style scoped>\n",
       "    .dataframe tbody tr th:only-of-type {\n",
       "        vertical-align: middle;\n",
       "    }\n",
       "\n",
       "    .dataframe tbody tr th {\n",
       "        vertical-align: top;\n",
       "    }\n",
       "\n",
       "    .dataframe thead th {\n",
       "        text-align: right;\n",
       "    }\n",
       "</style>\n",
       "<table border=\"1\" class=\"dataframe\">\n",
       "  <thead>\n",
       "    <tr style=\"text-align: right;\">\n",
       "      <th></th>\n",
       "      <th>date</th>\n",
       "      <th>hour</th>\n",
       "      <th>demand</th>\n",
       "      <th>year</th>\n",
       "      <th>month</th>\n",
       "      <th>day</th>\n",
       "    </tr>\n",
       "  </thead>\n",
       "  <tbody>\n",
       "    <tr>\n",
       "      <th>0</th>\n",
       "      <td>2018-08-18</td>\n",
       "      <td>9</td>\n",
       "      <td>91</td>\n",
       "      <td>2018</td>\n",
       "      <td>8</td>\n",
       "      <td>18</td>\n",
       "    </tr>\n",
       "    <tr>\n",
       "      <th>1</th>\n",
       "      <td>2018-08-18</td>\n",
       "      <td>10</td>\n",
       "      <td>21</td>\n",
       "      <td>2018</td>\n",
       "      <td>8</td>\n",
       "      <td>18</td>\n",
       "    </tr>\n",
       "    <tr>\n",
       "      <th>2</th>\n",
       "      <td>2018-08-18</td>\n",
       "      <td>13</td>\n",
       "      <td>23</td>\n",
       "      <td>2018</td>\n",
       "      <td>8</td>\n",
       "      <td>18</td>\n",
       "    </tr>\n",
       "    <tr>\n",
       "      <th>3</th>\n",
       "      <td>2018-08-18</td>\n",
       "      <td>14</td>\n",
       "      <td>104</td>\n",
       "      <td>2018</td>\n",
       "      <td>8</td>\n",
       "      <td>18</td>\n",
       "    </tr>\n",
       "    <tr>\n",
       "      <th>4</th>\n",
       "      <td>2018-08-18</td>\n",
       "      <td>15</td>\n",
       "      <td>81</td>\n",
       "      <td>2018</td>\n",
       "      <td>8</td>\n",
       "      <td>18</td>\n",
       "    </tr>\n",
       "  </tbody>\n",
       "</table>\n",
       "</div>"
      ],
      "text/plain": [
       "        date  hour  demand  year  month  day\n",
       "0 2018-08-18     9      91  2018      8   18\n",
       "1 2018-08-18    10      21  2018      8   18\n",
       "2 2018-08-18    13      23  2018      8   18\n",
       "3 2018-08-18    14     104  2018      8   18\n",
       "4 2018-08-18    15      81  2018      8   18"
      ]
     },
     "execution_count": 10,
     "metadata": {},
     "output_type": "execute_result"
    }
   ],
   "source": [
    "train.head()"
   ]
  },
  {
   "cell_type": "code",
   "execution_count": 11,
   "id": "478b82aa",
   "metadata": {},
   "outputs": [
    {
     "data": {
      "text/plain": [
       "array([ 9, 10, 13, 14, 15, 16, 17, 18, 19, 20, 21, 22, 23,  2,  8, 11, 12,\n",
       "        7,  0,  6,  1,  3,  5,  4], dtype=int64)"
      ]
     },
     "execution_count": 11,
     "metadata": {},
     "output_type": "execute_result"
    }
   ],
   "source": [
    "#Extract hour variable \n",
    "train['hour'].unique()"
   ]
  },
  {
   "cell_type": "code",
   "execution_count": 12,
   "id": "734e9e10",
   "metadata": {},
   "outputs": [
    {
     "data": {
      "text/plain": [
       "dtype('int64')"
      ]
     },
     "execution_count": 12,
     "metadata": {},
     "output_type": "execute_result"
    }
   ],
   "source": [
    "train['hour'].dtype"
   ]
  },
  {
   "cell_type": "code",
   "execution_count": 13,
   "id": "5612171e",
   "metadata": {},
   "outputs": [],
   "source": [
    "train['hour_class'] = pd.cut(train['hour'],5,labels=['Early_Morning','Morning','Noon','Evening','Night'])"
   ]
  },
  {
   "cell_type": "code",
   "execution_count": 14,
   "id": "43a8d190",
   "metadata": {},
   "outputs": [
    {
     "data": {
      "text/plain": [
       "array([ 9, 10, 13, 14, 15, 16, 17, 18, 19, 20, 21, 22, 23,  2,  8, 11, 12,\n",
       "        7,  0,  6,  1,  3,  5,  4], dtype=int64)"
      ]
     },
     "execution_count": 14,
     "metadata": {},
     "output_type": "execute_result"
    }
   ],
   "source": [
    "train['hour'].unique()"
   ]
  },
  {
   "cell_type": "code",
   "execution_count": 15,
   "id": "f9df729d",
   "metadata": {},
   "outputs": [
    {
     "data": {
      "text/html": [
       "<div>\n",
       "<style scoped>\n",
       "    .dataframe tbody tr th:only-of-type {\n",
       "        vertical-align: middle;\n",
       "    }\n",
       "\n",
       "    .dataframe tbody tr th {\n",
       "        vertical-align: top;\n",
       "    }\n",
       "\n",
       "    .dataframe thead th {\n",
       "        text-align: right;\n",
       "    }\n",
       "</style>\n",
       "<table border=\"1\" class=\"dataframe\">\n",
       "  <thead>\n",
       "    <tr style=\"text-align: right;\">\n",
       "      <th></th>\n",
       "      <th>date</th>\n",
       "      <th>hour</th>\n",
       "      <th>demand</th>\n",
       "      <th>year</th>\n",
       "      <th>month</th>\n",
       "      <th>day</th>\n",
       "      <th>hour_class</th>\n",
       "    </tr>\n",
       "  </thead>\n",
       "  <tbody>\n",
       "    <tr>\n",
       "      <th>0</th>\n",
       "      <td>2018-08-18</td>\n",
       "      <td>9</td>\n",
       "      <td>91</td>\n",
       "      <td>2018</td>\n",
       "      <td>8</td>\n",
       "      <td>18</td>\n",
       "      <td>Morning</td>\n",
       "    </tr>\n",
       "    <tr>\n",
       "      <th>1</th>\n",
       "      <td>2018-08-18</td>\n",
       "      <td>10</td>\n",
       "      <td>21</td>\n",
       "      <td>2018</td>\n",
       "      <td>8</td>\n",
       "      <td>18</td>\n",
       "      <td>Noon</td>\n",
       "    </tr>\n",
       "    <tr>\n",
       "      <th>2</th>\n",
       "      <td>2018-08-18</td>\n",
       "      <td>13</td>\n",
       "      <td>23</td>\n",
       "      <td>2018</td>\n",
       "      <td>8</td>\n",
       "      <td>18</td>\n",
       "      <td>Noon</td>\n",
       "    </tr>\n",
       "    <tr>\n",
       "      <th>3</th>\n",
       "      <td>2018-08-18</td>\n",
       "      <td>14</td>\n",
       "      <td>104</td>\n",
       "      <td>2018</td>\n",
       "      <td>8</td>\n",
       "      <td>18</td>\n",
       "      <td>Evening</td>\n",
       "    </tr>\n",
       "    <tr>\n",
       "      <th>4</th>\n",
       "      <td>2018-08-18</td>\n",
       "      <td>15</td>\n",
       "      <td>81</td>\n",
       "      <td>2018</td>\n",
       "      <td>8</td>\n",
       "      <td>18</td>\n",
       "      <td>Evening</td>\n",
       "    </tr>\n",
       "  </tbody>\n",
       "</table>\n",
       "</div>"
      ],
      "text/plain": [
       "        date  hour  demand  year  month  day hour_class\n",
       "0 2018-08-18     9      91  2018      8   18    Morning\n",
       "1 2018-08-18    10      21  2018      8   18       Noon\n",
       "2 2018-08-18    13      23  2018      8   18       Noon\n",
       "3 2018-08-18    14     104  2018      8   18    Evening\n",
       "4 2018-08-18    15      81  2018      8   18    Evening"
      ]
     },
     "execution_count": 15,
     "metadata": {},
     "output_type": "execute_result"
    }
   ],
   "source": [
    "train.head()"
   ]
  },
  {
   "cell_type": "code",
   "execution_count": 16,
   "id": "20bd3af1",
   "metadata": {},
   "outputs": [],
   "source": [
    "#Day convertion\n",
    "train['Week'] =(train['date'].dt.isocalendar().week).astype(int)\n",
    "train['Day_name'] = train['date'].dt.dayofweek\n",
    "train['Day_of_Year']=train['date'].dt.dayofyear\n",
    "train['Quarter'] = train['date'].dt.quarter"
   ]
  },
  {
   "cell_type": "code",
   "execution_count": 17,
   "id": "e4d6ddf0",
   "metadata": {},
   "outputs": [
    {
     "name": "stdout",
     "output_type": "stream",
     "text": [
      "<class 'pandas.core.series.Series'>\n",
      "RangeIndex: 18247 entries, 0 to 18246\n",
      "Series name: Week\n",
      "Non-Null Count  Dtype\n",
      "--------------  -----\n",
      "18247 non-null  int32\n",
      "dtypes: int32(1)\n",
      "memory usage: 71.4 KB\n"
     ]
    }
   ],
   "source": [
    "train['Week'].info()"
   ]
  },
  {
   "cell_type": "code",
   "execution_count": 18,
   "id": "ead6c34f",
   "metadata": {},
   "outputs": [],
   "source": [
    "# find Time of day\n",
    "def timeofday(n):\n",
    "    if n in range(1,4):\n",
    "        return 1\n",
    "    elif n in range(4,7):\n",
    "        return 2\n",
    "    elif n in range(7,12):\n",
    "        return 3\n",
    "    elif n in range(12,15):\n",
    "        return 4\n",
    "    elif n in range(15,18):\n",
    "        return 5\n",
    "    elif n in range(18,25) or n==0:\n",
    "        return 6\n",
    "    else:\n",
    "        return True\n",
    "train['TimeofDay']=train['hour'].apply(lambda n:timeofday(n))"
   ]
  },
  {
   "cell_type": "code",
   "execution_count": 19,
   "id": "83c10839",
   "metadata": {},
   "outputs": [
    {
     "data": {
      "text/plain": [
       "dtype('int64')"
      ]
     },
     "execution_count": 19,
     "metadata": {},
     "output_type": "execute_result"
    }
   ],
   "source": [
    "train['TimeofDay'].dtype"
   ]
  },
  {
   "cell_type": "code",
   "execution_count": 20,
   "id": "6f7c72e9",
   "metadata": {},
   "outputs": [],
   "source": [
    "# Find seasson \n",
    "def season(s):\n",
    "    if s in [1,12]:\n",
    "        return 'Winter'\n",
    "    elif s in [2,3]:\n",
    "        return 'Spring'\n",
    "    elif s in [4,5,6]:\n",
    "        return 'Summer'\n",
    "    elif s in [7,8,9]:\n",
    "        return 'Monsoon'\n",
    "    elif s in [10,11]:\n",
    "        return 'Autumn'\n",
    "    else:\n",
    "        return True\n",
    "train['Season']=train['month'].apply(lambda s:season(s))"
   ]
  },
  {
   "cell_type": "code",
   "execution_count": 21,
   "id": "c45a442e",
   "metadata": {},
   "outputs": [],
   "source": [
    "from pandas.tseries.holiday import USFederalHolidayCalendar as calendar\n",
    "\n",
    "cal = calendar()\n",
    "holidays = cal.holidays(start=train.date.min(), end =train.date.max())\n",
    "\n",
    "train['Holiday'] = train['date'].isin(holidays)\n",
    "train['Holiday'] = train['Holiday'].astype(int)"
   ]
  },
  {
   "cell_type": "code",
   "execution_count": 22,
   "id": "c7a4e29c",
   "metadata": {},
   "outputs": [
    {
     "data": {
      "text/html": [
       "<div>\n",
       "<style scoped>\n",
       "    .dataframe tbody tr th:only-of-type {\n",
       "        vertical-align: middle;\n",
       "    }\n",
       "\n",
       "    .dataframe tbody tr th {\n",
       "        vertical-align: top;\n",
       "    }\n",
       "\n",
       "    .dataframe thead th {\n",
       "        text-align: right;\n",
       "    }\n",
       "</style>\n",
       "<table border=\"1\" class=\"dataframe\">\n",
       "  <thead>\n",
       "    <tr style=\"text-align: right;\">\n",
       "      <th></th>\n",
       "      <th>date</th>\n",
       "      <th>hour</th>\n",
       "      <th>demand</th>\n",
       "      <th>year</th>\n",
       "      <th>month</th>\n",
       "      <th>day</th>\n",
       "      <th>hour_class</th>\n",
       "      <th>Week</th>\n",
       "      <th>Day_name</th>\n",
       "      <th>Day_of_Year</th>\n",
       "      <th>Quarter</th>\n",
       "      <th>TimeofDay</th>\n",
       "      <th>Season</th>\n",
       "      <th>Holiday</th>\n",
       "    </tr>\n",
       "  </thead>\n",
       "  <tbody>\n",
       "    <tr>\n",
       "      <th>0</th>\n",
       "      <td>2018-08-18</td>\n",
       "      <td>9</td>\n",
       "      <td>91</td>\n",
       "      <td>2018</td>\n",
       "      <td>8</td>\n",
       "      <td>18</td>\n",
       "      <td>Morning</td>\n",
       "      <td>33</td>\n",
       "      <td>5</td>\n",
       "      <td>230</td>\n",
       "      <td>3</td>\n",
       "      <td>3</td>\n",
       "      <td>Monsoon</td>\n",
       "      <td>0</td>\n",
       "    </tr>\n",
       "    <tr>\n",
       "      <th>1</th>\n",
       "      <td>2018-08-18</td>\n",
       "      <td>10</td>\n",
       "      <td>21</td>\n",
       "      <td>2018</td>\n",
       "      <td>8</td>\n",
       "      <td>18</td>\n",
       "      <td>Noon</td>\n",
       "      <td>33</td>\n",
       "      <td>5</td>\n",
       "      <td>230</td>\n",
       "      <td>3</td>\n",
       "      <td>3</td>\n",
       "      <td>Monsoon</td>\n",
       "      <td>0</td>\n",
       "    </tr>\n",
       "    <tr>\n",
       "      <th>2</th>\n",
       "      <td>2018-08-18</td>\n",
       "      <td>13</td>\n",
       "      <td>23</td>\n",
       "      <td>2018</td>\n",
       "      <td>8</td>\n",
       "      <td>18</td>\n",
       "      <td>Noon</td>\n",
       "      <td>33</td>\n",
       "      <td>5</td>\n",
       "      <td>230</td>\n",
       "      <td>3</td>\n",
       "      <td>4</td>\n",
       "      <td>Monsoon</td>\n",
       "      <td>0</td>\n",
       "    </tr>\n",
       "    <tr>\n",
       "      <th>3</th>\n",
       "      <td>2018-08-18</td>\n",
       "      <td>14</td>\n",
       "      <td>104</td>\n",
       "      <td>2018</td>\n",
       "      <td>8</td>\n",
       "      <td>18</td>\n",
       "      <td>Evening</td>\n",
       "      <td>33</td>\n",
       "      <td>5</td>\n",
       "      <td>230</td>\n",
       "      <td>3</td>\n",
       "      <td>4</td>\n",
       "      <td>Monsoon</td>\n",
       "      <td>0</td>\n",
       "    </tr>\n",
       "    <tr>\n",
       "      <th>4</th>\n",
       "      <td>2018-08-18</td>\n",
       "      <td>15</td>\n",
       "      <td>81</td>\n",
       "      <td>2018</td>\n",
       "      <td>8</td>\n",
       "      <td>18</td>\n",
       "      <td>Evening</td>\n",
       "      <td>33</td>\n",
       "      <td>5</td>\n",
       "      <td>230</td>\n",
       "      <td>3</td>\n",
       "      <td>5</td>\n",
       "      <td>Monsoon</td>\n",
       "      <td>0</td>\n",
       "    </tr>\n",
       "  </tbody>\n",
       "</table>\n",
       "</div>"
      ],
      "text/plain": [
       "        date  hour  demand  year  month  day hour_class  Week  Day_name  \\\n",
       "0 2018-08-18     9      91  2018      8   18    Morning    33         5   \n",
       "1 2018-08-18    10      21  2018      8   18       Noon    33         5   \n",
       "2 2018-08-18    13      23  2018      8   18       Noon    33         5   \n",
       "3 2018-08-18    14     104  2018      8   18    Evening    33         5   \n",
       "4 2018-08-18    15      81  2018      8   18    Evening    33         5   \n",
       "\n",
       "   Day_of_Year  Quarter  TimeofDay   Season  Holiday  \n",
       "0          230        3          3  Monsoon        0  \n",
       "1          230        3          3  Monsoon        0  \n",
       "2          230        3          4  Monsoon        0  \n",
       "3          230        3          4  Monsoon        0  \n",
       "4          230        3          5  Monsoon        0  "
      ]
     },
     "execution_count": 22,
     "metadata": {},
     "output_type": "execute_result"
    }
   ],
   "source": [
    "train.head()"
   ]
  },
  {
   "cell_type": "code",
   "execution_count": 23,
   "id": "66f4a6e1",
   "metadata": {},
   "outputs": [
    {
     "data": {
      "text/plain": [
       "(18247, 14)"
      ]
     },
     "execution_count": 23,
     "metadata": {},
     "output_type": "execute_result"
    }
   ],
   "source": [
    "train.shape"
   ]
  },
  {
   "cell_type": "code",
   "execution_count": 24,
   "id": "b24c1215",
   "metadata": {},
   "outputs": [
    {
     "data": {
      "text/plain": [
       "<AxesSubplot:xlabel='year', ylabel='demand'>"
      ]
     },
     "execution_count": 24,
     "metadata": {},
     "output_type": "execute_result"
    },
    {
     "data": {
      "image/png": "[encoded data removed]",
      "text/plain": [
       "<Figure size 432x288 with 1 Axes>"
      ]
     },
     "metadata": {
      "needs_background": "light"
     },
     "output_type": "display_data"
    }
   ],
   "source": [
    "sns.lineplot(data = train, x='year', y='demand')"
   ]
  },
  {
   "cell_type": "markdown",
   "id": "77d19974",
   "metadata": {},
   "source": [
    "Demand has been increasing over the year"
   ]
  },
  {
   "cell_type": "code",
   "execution_count": 25,
   "id": "4159f531",
   "metadata": {},
   "outputs": [
    {
     "data": {
      "image/png": "[encoded data removed]",
      "text/plain": [
       "<Figure size 432x288 with 1 Axes>"
      ]
     },
     "metadata": {
      "needs_background": "light"
     },
     "output_type": "display_data"
    }
   ],
   "source": [
    "sns.lineplot(data = train, x='hour', y='demand')\n",
    "plt.xticks(np.arange(0,24))\n",
    "plt.grid()\n",
    "plt.show()"
   ]
  },
  {
   "cell_type": "markdown",
   "id": "375251d2",
   "metadata": {},
   "source": [
    "Over all years, demand is very low till 5, then increases and peaks from 11 to 19 and slowly decreases."
   ]
  },
  {
   "cell_type": "code",
   "execution_count": 26,
   "id": "a4e07aab",
   "metadata": {},
   "outputs": [
    {
     "data": {
      "text/plain": [
       "<AxesSubplot:xlabel='TimeofDay', ylabel='demand'>"
      ]
     },
     "execution_count": 26,
     "metadata": {},
     "output_type": "execute_result"
    },
    {
     "data": {
      "image/png": "[encoded data removed]",
      "text/plain": [
       "<Figure size 432x288 with 1 Axes>"
      ]
     },
     "metadata": {
      "needs_background": "light"
     },
     "output_type": "display_data"
    }
   ],
   "source": [
    "sns.lineplot(data = train, x = 'TimeofDay' , y ='demand',hue ='year')"
   ]
  },
  {
   "cell_type": "code",
   "execution_count": 27,
   "id": "b3195ca9",
   "metadata": {},
   "outputs": [
    {
     "data": {
      "text/plain": [
       "<AxesSubplot:xlabel='hour_class', ylabel='demand'>"
      ]
     },
     "execution_count": 27,
     "metadata": {},
     "output_type": "execute_result"
    },
    {
     "data": {
      "image/png": "[encoded data removed]",
      "text/plain": [
       "<Figure size 432x288 with 1 Axes>"
      ]
     },
     "metadata": {
      "needs_background": "light"
     },
     "output_type": "display_data"
    }
   ],
   "source": [
    "sns.lineplot(data = train, x = 'hour_class' , y ='demand',hue ='year')"
   ]
  },
  {
   "cell_type": "code",
   "execution_count": 28,
   "id": "ee75ee1c",
   "metadata": {},
   "outputs": [
    {
     "data": {
      "text/plain": [
       "<AxesSubplot:xlabel='Season', ylabel='demand'>"
      ]
     },
     "execution_count": 28,
     "metadata": {},
     "output_type": "execute_result"
    },
    {
     "data": {
      "image/png": "[encoded data removed]",
      "text/plain": [
       "<Figure size 432x288 with 1 Axes>"
      ]
     },
     "metadata": {
      "needs_background": "light"
     },
     "output_type": "display_data"
    }
   ],
   "source": [
    "sns.lineplot(data = train, x = 'Season' , y ='demand',hue= 'year')"
   ]
  },
  {
   "cell_type": "code",
   "execution_count": 29,
   "id": "accf2905",
   "metadata": {},
   "outputs": [
    {
     "data": {
      "text/plain": [
       "<AxesSubplot:xlabel='month', ylabel='demand'>"
      ]
     },
     "execution_count": 29,
     "metadata": {},
     "output_type": "execute_result"
    },
    {
     "data": {
      "image/png": "[encoded data removed]",
      "text/plain": [
       "<Figure size 432x288 with 1 Axes>"
      ]
     },
     "metadata": {
      "needs_background": "light"
     },
     "output_type": "display_data"
    }
   ],
   "source": [
    "sns.lineplot(data = train, x ='month',hue ='year', y = 'demand')"
   ]
  },
  {
   "cell_type": "markdown",
   "id": "e768227a",
   "metadata": {},
   "source": [
    "high demand in November"
   ]
  },
  {
   "cell_type": "code",
   "execution_count": 30,
   "id": "905cd63c",
   "metadata": {},
   "outputs": [
    {
     "data": {
      "image/png": "[encoded data removed]",
      "text/plain": [
       "<Figure size 432x288 with 1 Axes>"
      ]
     },
     "metadata": {
      "needs_background": "light"
     },
     "output_type": "display_data"
    }
   ],
   "source": [
    "sns.lineplot(data = train, x ='Quarter', y = 'demand',hue ='year')\n",
    "#plt.xticks([1,2,3,4])\n",
    "plt.show()"
   ]
  },
  {
   "cell_type": "markdown",
   "id": "47c6c52a",
   "metadata": {},
   "source": [
    "Demand is steady in 1st and 2nd quarter,\n",
    "demand dip in 3rd quarter,\n",
    "high in 4th Quarter"
   ]
  },
  {
   "cell_type": "code",
   "execution_count": 31,
   "id": "0d9ab93e",
   "metadata": {},
   "outputs": [
    {
     "data": {
      "text/plain": [
       "<AxesSubplot:xlabel='Day_of_Year', ylabel='demand'>"
      ]
     },
     "execution_count": 31,
     "metadata": {},
     "output_type": "execute_result"
    },
    {
     "data": {
      "image/png": "[encoded data removed]",
      "text/plain": [
       "<Figure size 432x288 with 1 Axes>"
      ]
     },
     "metadata": {
      "needs_background": "light"
     },
     "output_type": "display_data"
    }
   ],
   "source": [
    "sns.lineplot(data = train, x ='Day_of_Year', y = 'demand',hue = 'Holiday')"
   ]
  },
  {
   "cell_type": "code",
   "execution_count": 32,
   "id": "27d72dab",
   "metadata": {},
   "outputs": [
    {
     "data": {
      "text/plain": [
       "<AxesSubplot:xlabel='day', ylabel='demand'>"
      ]
     },
     "execution_count": 32,
     "metadata": {},
     "output_type": "execute_result"
    },
    {
     "data": {
      "image/png": "[encoded data removed]",
      "text/plain": [
       "<Figure size 432x288 with 1 Axes>"
      ]
     },
     "metadata": {
      "needs_background": "light"
     },
     "output_type": "display_data"
    }
   ],
   "source": [
    "train_nov = train[train['month'] == 11]\n",
    "sns.lineplot(data = train_nov, x ='day', y = 'demand',hue ='year')"
   ]
  },
  {
   "cell_type": "markdown",
   "id": "d089bd6f",
   "metadata": {},
   "source": [
    "High demand is during November 5th to 15th every year"
   ]
  },
  {
   "cell_type": "code",
   "execution_count": 33,
   "id": "ab8baba5",
   "metadata": {},
   "outputs": [
    {
     "data": {
      "image/png": "[encoded data removed]",
      "text/plain": [
       "<Figure size 432x288 with 1 Axes>"
      ]
     },
     "metadata": {
      "needs_background": "light"
     },
     "output_type": "display_data"
    }
   ],
   "source": [
    "sns.lineplot(data = train_nov,x = 'hour', hue ='year', y = 'demand')\n",
    "plt.xticks(np.arange(0,24))\n",
    "plt.grid()\n",
    "plt.title(\"Peak hours in November\")\n",
    "plt.show()"
   ]
  },
  {
   "cell_type": "markdown",
   "id": "6f01e992",
   "metadata": {},
   "source": [
    "Increased demand for rendel cars in November are from 9 to 21 hrs.\n",
    "Peak during 12 to 18 hrs"
   ]
  },
  {
   "cell_type": "code",
   "execution_count": 34,
   "id": "cdfcfad6",
   "metadata": {},
   "outputs": [],
   "source": [
    "b4_train=train.copy()"
   ]
  },
  {
   "cell_type": "code",
   "execution_count": 35,
   "id": "0a8697e3",
   "metadata": {},
   "outputs": [
    {
     "data": {
      "text/plain": [
       "(18247, 14)"
      ]
     },
     "execution_count": 35,
     "metadata": {},
     "output_type": "execute_result"
    }
   ],
   "source": [
    "b4_train.shape"
   ]
  },
  {
   "cell_type": "markdown",
   "id": "d136d498",
   "metadata": {},
   "source": [
    "#### ENCODE"
   ]
  },
  {
   "cell_type": "code",
   "execution_count": 36,
   "id": "dfc4a5c6",
   "metadata": {},
   "outputs": [
    {
     "data": {
      "text/plain": [
       "date           datetime64[ns]\n",
       "hour                    int64\n",
       "demand                  int64\n",
       "year                    int64\n",
       "month                   int64\n",
       "day                     int64\n",
       "hour_class           category\n",
       "Week                    int32\n",
       "Day_name                int64\n",
       "Day_of_Year             int64\n",
       "Quarter                 int64\n",
       "TimeofDay               int64\n",
       "Season                 object\n",
       "Holiday                 int32\n",
       "dtype: object"
      ]
     },
     "execution_count": 36,
     "metadata": {},
     "output_type": "execute_result"
    }
   ],
   "source": [
    "train.dtypes"
   ]
  },
  {
   "cell_type": "code",
   "execution_count": 37,
   "id": "275fb89b",
   "metadata": {},
   "outputs": [
    {
     "name": "stderr",
     "output_type": "stream",
     "text": [
      "D:\\Progrmfilesdownloaded\\Python310\\lib\\site-packages\\sklearn\\preprocessing\\_label.py:115: DataConversionWarning: A column-vector y was passed when a 1d array was expected. Please change the shape of y to (n_samples, ), for example using ravel().\n",
      "  y = column_or_1d(y, warn=True)\n",
      "D:\\Progrmfilesdownloaded\\Python310\\lib\\site-packages\\sklearn\\preprocessing\\_label.py:115: DataConversionWarning: A column-vector y was passed when a 1d array was expected. Please change the shape of y to (n_samples, ), for example using ravel().\n",
      "  y = column_or_1d(y, warn=True)\n"
     ]
    }
   ],
   "source": [
    "from sklearn.preprocessing import LabelEncoder\n",
    "le =LabelEncoder()\n",
    "train ['Season'] = le.fit_transform(train[['Season']])\n",
    "train['hour_class'] = le.fit_transform(train[['hour_class']])"
   ]
  },
  {
   "cell_type": "markdown",
   "id": "ded8387a",
   "metadata": {},
   "source": [
    "### Cyclic Normalization"
   ]
  },
  {
   "cell_type": "code",
   "execution_count": 38,
   "id": "dc08234a",
   "metadata": {},
   "outputs": [],
   "source": [
    "train['hour-sin'] = np.sin(train['hour']*np.pi/24)\n",
    "train['hour-cos'] = np.cos(train['hour']*np.pi/24)\n",
    "train.drop('hour', axis =1, inplace =True)\n",
    "\n",
    "train['Day_of_Year-sin'] = np.sin(train['Day_of_Year']*np.pi/365)\n",
    "train['Day_of_Year-cos'] = np.cos(train['Day_of_Year']*np.pi/365)\n",
    "train.drop('Day_of_Year', axis =1, inplace =True)\n",
    "\n",
    "train['day-sin'] = np.sin(train['day']*np.pi/31)\n",
    "train['day-cos'] = np.cos(train['day']*np.pi/31)\n",
    "train.drop('day', axis =1, inplace =True)\n",
    "\n",
    "train['month-sin'] = np.sin(train['month']*np.pi/12)\n",
    "train['month-cos'] = np.cos(train['month']*np.pi/12)\n",
    "train.drop('month', axis =1, inplace =True)\n",
    "\n",
    "train['Week-sin'] = np.sin(train['Week']*np.pi/53)\n",
    "train['Week-cos'] = np.cos(train['Week']*np.pi/53)\n",
    "train.drop('Week', axis =1, inplace =True)\n",
    "\n",
    "train['Day_name-sin'] = np.sin(train['Day_name']*np.pi/7)\n",
    "train['Day_name-cos'] = np.cos(train['Day_name']*np.pi/7)\n",
    "train.drop('Day_name', axis =1, inplace =True)"
   ]
  },
  {
   "cell_type": "code",
   "execution_count": 39,
   "id": "7e47ec61",
   "metadata": {},
   "outputs": [
    {
     "data": {
      "text/plain": [
       "2    4441\n",
       "4    4213\n",
       "3    3571\n",
       "5    3544\n",
       "1    2478\n",
       "Name: hour_class, dtype: int64"
      ]
     },
     "execution_count": 39,
     "metadata": {},
     "output_type": "execute_result"
    }
   ],
   "source": [
    "train['hour_class']= train['hour_class'] +1\n",
    "train['hour_class'].value_counts()"
   ]
  },
  {
   "cell_type": "code",
   "execution_count": 40,
   "id": "4c47625b",
   "metadata": {},
   "outputs": [],
   "source": [
    "train['Quarter-sin'] = np.sin(train['Quarter']*np.pi/3)\n",
    "train['Quarter-cos'] = np.cos(train['Quarter']*np.pi/3)\n",
    "train.drop('Quarter', axis =1, inplace =True)\n",
    "\n",
    "train['hour_class-sin'] = np.sin(train['hour_class']*np.pi/5)\n",
    "train['hour_class-cos'] = np.cos(train['hour_class']*np.pi/5)\n",
    "train.drop('hour_class', axis =1, inplace =True)\n",
    "\n",
    "train['TimeofDay-sin'] = np.sin(train['TimeofDay']*np.pi/6)\n",
    "train['TimeofDay-cos'] = np.cos(train['TimeofDay']*np.pi/6)\n",
    "train.drop('TimeofDay', axis =1, inplace =True)\n",
    "\n",
    "train['Season-sin'] = np.sin(train['Season']*np.pi/5)\n",
    "train['Season-cos'] = np.cos(train['Season']*np.pi/5)\n",
    "train.drop('Season', axis =1, inplace =True)"
   ]
  },
  {
   "cell_type": "code",
   "execution_count": 41,
   "id": "219230c9",
   "metadata": {},
   "outputs": [],
   "source": [
    "train_clean = train.copy()"
   ]
  },
  {
   "cell_type": "markdown",
   "id": "b0a1ac52",
   "metadata": {},
   "source": [
    "Define the target Variable"
   ]
  },
  {
   "cell_type": "code",
   "execution_count": 42,
   "id": "4509d617",
   "metadata": {},
   "outputs": [],
   "source": [
    "train.drop('date',axis =1, inplace = True)\n",
    "ind21 = b4_train[b4_train['year']== 2021].index\n",
    "ind20 = b4_train[(b4_train['year']== 2019) & (b4_train['month']>6)].index"
   ]
  },
  {
   "cell_type": "code",
   "execution_count": 43,
   "id": "b8f3fc76",
   "metadata": {},
   "outputs": [],
   "source": [
    "def split(dataframe):\n",
    "    train = dataframe.drop(ind21)\n",
    "    train = dataframe.drop(ind20)\n",
    "\n",
    "    test1 = dataframe.loc[ind21]\n",
    "    test2 = dataframe.loc[ind20]\n",
    "    test = pd.concat([test1,test2])\n",
    "\n",
    "    X_test = test.drop('demand', axis =1)\n",
    "    y_test = test['demand']\n",
    "    X_train = train.drop('demand', axis =1)\n",
    "    y_train = train['demand']\n",
    "    return(X_train,X_test,y_train,y_test)"
   ]
  },
  {
   "cell_type": "code",
   "execution_count": 44,
   "id": "f2eb689b",
   "metadata": {},
   "outputs": [],
   "source": [
    "X_train,X_test,y_train,y_test = split(train)"
   ]
  },
  {
   "cell_type": "code",
   "execution_count": null,
   "id": "4940bc35",
   "metadata": {},
   "outputs": [],
   "source": []
  },
  {
   "cell_type": "code",
   "execution_count": null,
   "id": "56c4ff8a",
   "metadata": {},
   "outputs": [],
   "source": []
  },
  {
   "cell_type": "code",
   "execution_count": 45,
   "id": "784a39d3",
   "metadata": {
    "scrolled": true
   },
   "outputs": [
    {
     "data": {
      "text/html": [
       "<div>\n",
       "<style scoped>\n",
       "    .dataframe tbody tr th:only-of-type {\n",
       "        vertical-align: middle;\n",
       "    }\n",
       "\n",
       "    .dataframe tbody tr th {\n",
       "        vertical-align: top;\n",
       "    }\n",
       "\n",
       "    .dataframe thead th {\n",
       "        text-align: right;\n",
       "    }\n",
       "</style>\n",
       "<table border=\"1\" class=\"dataframe\">\n",
       "  <thead>\n",
       "    <tr style=\"text-align: right;\">\n",
       "      <th></th>\n",
       "      <th>feature</th>\n",
       "      <th>VIF</th>\n",
       "    </tr>\n",
       "  </thead>\n",
       "  <tbody>\n",
       "    <tr>\n",
       "      <th>1</th>\n",
       "      <td>Holiday</td>\n",
       "      <td>1.105776</td>\n",
       "    </tr>\n",
       "    <tr>\n",
       "      <th>13</th>\n",
       "      <td>Day_name-cos</td>\n",
       "      <td>1.267140</td>\n",
       "    </tr>\n",
       "    <tr>\n",
       "      <th>17</th>\n",
       "      <td>hour_class-cos</td>\n",
       "      <td>3.126860</td>\n",
       "    </tr>\n",
       "    <tr>\n",
       "      <th>21</th>\n",
       "      <td>Season-cos</td>\n",
       "      <td>3.326522</td>\n",
       "    </tr>\n",
       "    <tr>\n",
       "      <th>7</th>\n",
       "      <td>day-cos</td>\n",
       "      <td>4.932646</td>\n",
       "    </tr>\n",
       "    <tr>\n",
       "      <th>12</th>\n",
       "      <td>Day_name-sin</td>\n",
       "      <td>5.600933</td>\n",
       "    </tr>\n",
       "    <tr>\n",
       "      <th>6</th>\n",
       "      <td>day-sin</td>\n",
       "      <td>5.753963</td>\n",
       "    </tr>\n",
       "    <tr>\n",
       "      <th>19</th>\n",
       "      <td>TimeofDay-cos</td>\n",
       "      <td>6.472567</td>\n",
       "    </tr>\n",
       "    <tr>\n",
       "      <th>3</th>\n",
       "      <td>hour-cos</td>\n",
       "      <td>6.474779</td>\n",
       "    </tr>\n",
       "    <tr>\n",
       "      <th>16</th>\n",
       "      <td>hour_class-sin</td>\n",
       "      <td>7.671161</td>\n",
       "    </tr>\n",
       "    <tr>\n",
       "      <th>15</th>\n",
       "      <td>Quarter-cos</td>\n",
       "      <td>11.418812</td>\n",
       "    </tr>\n",
       "    <tr>\n",
       "      <th>11</th>\n",
       "      <td>Week-cos</td>\n",
       "      <td>25.804036</td>\n",
       "    </tr>\n",
       "    <tr>\n",
       "      <th>20</th>\n",
       "      <td>Season-sin</td>\n",
       "      <td>26.826756</td>\n",
       "    </tr>\n",
       "    <tr>\n",
       "      <th>18</th>\n",
       "      <td>TimeofDay-sin</td>\n",
       "      <td>32.966062</td>\n",
       "    </tr>\n",
       "    <tr>\n",
       "      <th>2</th>\n",
       "      <td>hour-sin</td>\n",
       "      <td>35.542656</td>\n",
       "    </tr>\n",
       "    <tr>\n",
       "      <th>0</th>\n",
       "      <td>year</td>\n",
       "      <td>44.663972</td>\n",
       "    </tr>\n",
       "    <tr>\n",
       "      <th>14</th>\n",
       "      <td>Quarter-sin</td>\n",
       "      <td>45.919858</td>\n",
       "    </tr>\n",
       "    <tr>\n",
       "      <th>8</th>\n",
       "      <td>month-sin</td>\n",
       "      <td>202.141138</td>\n",
       "    </tr>\n",
       "    <tr>\n",
       "      <th>9</th>\n",
       "      <td>month-cos</td>\n",
       "      <td>1018.798668</td>\n",
       "    </tr>\n",
       "    <tr>\n",
       "      <th>5</th>\n",
       "      <td>Day_of_Year-cos</td>\n",
       "      <td>1099.767010</td>\n",
       "    </tr>\n",
       "    <tr>\n",
       "      <th>10</th>\n",
       "      <td>Week-sin</td>\n",
       "      <td>1853.940693</td>\n",
       "    </tr>\n",
       "    <tr>\n",
       "      <th>4</th>\n",
       "      <td>Day_of_Year-sin</td>\n",
       "      <td>1893.881051</td>\n",
       "    </tr>\n",
       "  </tbody>\n",
       "</table>\n",
       "</div>"
      ],
      "text/plain": [
       "            feature          VIF\n",
       "1           Holiday     1.105776\n",
       "13     Day_name-cos     1.267140\n",
       "17   hour_class-cos     3.126860\n",
       "21       Season-cos     3.326522\n",
       "7           day-cos     4.932646\n",
       "12     Day_name-sin     5.600933\n",
       "6           day-sin     5.753963\n",
       "19    TimeofDay-cos     6.472567\n",
       "3          hour-cos     6.474779\n",
       "16   hour_class-sin     7.671161\n",
       "15      Quarter-cos    11.418812\n",
       "11         Week-cos    25.804036\n",
       "20       Season-sin    26.826756\n",
       "18    TimeofDay-sin    32.966062\n",
       "2          hour-sin    35.542656\n",
       "0              year    44.663972\n",
       "14      Quarter-sin    45.919858\n",
       "8         month-sin   202.141138\n",
       "9         month-cos  1018.798668\n",
       "5   Day_of_Year-cos  1099.767010\n",
       "10         Week-sin  1853.940693\n",
       "4   Day_of_Year-sin  1893.881051"
      ]
     },
     "execution_count": 45,
     "metadata": {},
     "output_type": "execute_result"
    }
   ],
   "source": [
    "from statsmodels.stats.outliers_influence import variance_inflation_factor\n",
    "# VIF dataframe\n",
    "\n",
    "vif_data = pd.DataFrame()\n",
    "vif_data[\"feature\"] = X_train.columns\n",
    "  \n",
    "# calculating VIF for each feature\n",
    "vif_data[\"VIF\"] = [variance_inflation_factor(X_train.values, i)\n",
    "                          for i in range(len(X_train.columns))]\n",
    "vif_data.sort_values(by = 'VIF')"
   ]
  },
  {
   "cell_type": "code",
   "execution_count": 46,
   "id": "142f34f2",
   "metadata": {},
   "outputs": [
    {
     "data": {
      "text/plain": [
       "array(['Holiday', 'Day_name-cos', 'hour_class-cos', 'Season-cos',\n",
       "       'day-cos', 'Day_name-sin', 'day-sin', 'TimeofDay-cos', 'hour-cos',\n",
       "       'hour_class-sin', 'Quarter-cos', 'Week-cos', 'Season-sin',\n",
       "       'TimeofDay-sin', 'hour-sin', 'year', 'Quarter-sin', 'month-sin',\n",
       "       'month-cos', 'Day_of_Year-cos', 'Week-sin', 'Day_of_Year-sin'],\n",
       "      dtype=object)"
      ]
     },
     "execution_count": 46,
     "metadata": {},
     "output_type": "execute_result"
    }
   ],
   "source": [
    "vif_data.sort_values(by = 'VIF').feature.values"
   ]
  },
  {
   "cell_type": "code",
   "execution_count": 47,
   "id": "94433772",
   "metadata": {},
   "outputs": [],
   "source": [
    "high = ['Quarter-sin','month-cos', 'Day_of_Year-cos', 'Week-sin',\n",
    "       'Day_of_Year-sin' , 'hour-cos' ,'TimeofDay-sin', 'Season-sin']"
   ]
  },
  {
   "cell_type": "code",
   "execution_count": 48,
   "id": "75396d22",
   "metadata": {},
   "outputs": [
    {
     "data": {
      "text/plain": [
       "<AxesSubplot:>"
      ]
     },
     "execution_count": 48,
     "metadata": {},
     "output_type": "execute_result"
    },
    {
     "data": {
      "image/png": "[encoded data removed]",
      "text/plain": [
       "<Figure size 864x864 with 2 Axes>"
      ]
     },
     "metadata": {
      "needs_background": "light"
     },
     "output_type": "display_data"
    }
   ],
   "source": [
    "plt.figure(figsize = (12,12))\n",
    "sns.heatmap(train_clean.drop(high,axis =1).corr(),annot=True, cmap='YlGnBu')"
   ]
  },
  {
   "cell_type": "code",
   "execution_count": 49,
   "id": "cac1611a",
   "metadata": {},
   "outputs": [
    {
     "data": {
      "text/plain": [
       "array(['Holiday', 'Day_name-cos', 'hour_class-cos', 'Season-cos',\n",
       "       'day-cos', 'Day_name-sin', 'day-sin', 'TimeofDay-cos', 'hour-cos',\n",
       "       'hour_class-sin', 'Quarter-cos', 'Week-cos', 'Season-sin',\n",
       "       'TimeofDay-sin', 'hour-sin', 'year', 'Quarter-sin', 'month-sin',\n",
       "       'month-cos', 'Day_of_Year-cos', 'Week-sin', 'Day_of_Year-sin'],\n",
       "      dtype=object)"
      ]
     },
     "execution_count": 49,
     "metadata": {},
     "output_type": "execute_result"
    }
   ],
   "source": [
    "vif_data.sort_values(by = 'VIF').feature.values"
   ]
  },
  {
   "cell_type": "code",
   "execution_count": 50,
   "id": "71668c7c",
   "metadata": {},
   "outputs": [
    {
     "data": {
      "text/plain": [
       "['Quarter-sin',\n",
       " 'month-cos',\n",
       " 'Day_of_Year-cos',\n",
       " 'Week-sin',\n",
       " 'Day_of_Year-sin',\n",
       " 'hour-cos',\n",
       " 'TimeofDay-sin',\n",
       " 'Season-sin']"
      ]
     },
     "execution_count": 50,
     "metadata": {},
     "output_type": "execute_result"
    }
   ],
   "source": [
    "high"
   ]
  },
  {
   "cell_type": "code",
   "execution_count": 51,
   "id": "ef56dbae",
   "metadata": {},
   "outputs": [],
   "source": [
    "#Inspect the factors for each predictor variable, if the VIF is between 5–10, multicollinearity is likely present and you should consider dropping the variable.\n",
    "train_V = train.drop(high,axis =1)\n",
    "train_V#select = ['Holiday', 'hour_bin-sin', 'quartor-sin', 'day_of_week-sin','timeOfDay-sin', 'day-sin', 'hour-sin', 'year', 'month-sin']\n",
    "drop = high"
   ]
  },
  {
   "cell_type": "code",
   "execution_count": 52,
   "id": "9981339b",
   "metadata": {},
   "outputs": [
    {
     "data": {
      "text/html": [
       "<div>\n",
       "<style scoped>\n",
       "    .dataframe tbody tr th:only-of-type {\n",
       "        vertical-align: middle;\n",
       "    }\n",
       "\n",
       "    .dataframe tbody tr th {\n",
       "        vertical-align: top;\n",
       "    }\n",
       "\n",
       "    .dataframe thead th {\n",
       "        text-align: right;\n",
       "    }\n",
       "</style>\n",
       "<table border=\"1\" class=\"dataframe\">\n",
       "  <thead>\n",
       "    <tr style=\"text-align: right;\">\n",
       "      <th></th>\n",
       "      <th>demand</th>\n",
       "      <th>year</th>\n",
       "      <th>Holiday</th>\n",
       "      <th>hour-sin</th>\n",
       "      <th>day-sin</th>\n",
       "      <th>day-cos</th>\n",
       "      <th>month-sin</th>\n",
       "      <th>Week-cos</th>\n",
       "      <th>Day_name-sin</th>\n",
       "      <th>Day_name-cos</th>\n",
       "      <th>Quarter-cos</th>\n",
       "      <th>hour_class-sin</th>\n",
       "      <th>hour_class-cos</th>\n",
       "      <th>TimeofDay-cos</th>\n",
       "      <th>Season-cos</th>\n",
       "    </tr>\n",
       "  </thead>\n",
       "  <tbody>\n",
       "    <tr>\n",
       "      <th>0</th>\n",
       "      <td>91</td>\n",
       "      <td>2018</td>\n",
       "      <td>0</td>\n",
       "      <td>0.923880</td>\n",
       "      <td>0.968077</td>\n",
       "      <td>-0.250653</td>\n",
       "      <td>0.866025</td>\n",
       "      <td>-0.375828</td>\n",
       "      <td>0.781831</td>\n",
       "      <td>-0.623490</td>\n",
       "      <td>-1.0</td>\n",
       "      <td>9.510565e-01</td>\n",
       "      <td>-0.309017</td>\n",
       "      <td>6.123234e-17</td>\n",
       "      <td>0.809017</td>\n",
       "    </tr>\n",
       "    <tr>\n",
       "      <th>1</th>\n",
       "      <td>21</td>\n",
       "      <td>2018</td>\n",
       "      <td>0</td>\n",
       "      <td>0.965926</td>\n",
       "      <td>0.968077</td>\n",
       "      <td>-0.250653</td>\n",
       "      <td>0.866025</td>\n",
       "      <td>-0.375828</td>\n",
       "      <td>0.781831</td>\n",
       "      <td>-0.623490</td>\n",
       "      <td>-1.0</td>\n",
       "      <td>1.224647e-16</td>\n",
       "      <td>-1.000000</td>\n",
       "      <td>6.123234e-17</td>\n",
       "      <td>0.809017</td>\n",
       "    </tr>\n",
       "    <tr>\n",
       "      <th>2</th>\n",
       "      <td>23</td>\n",
       "      <td>2018</td>\n",
       "      <td>0</td>\n",
       "      <td>0.991445</td>\n",
       "      <td>0.968077</td>\n",
       "      <td>-0.250653</td>\n",
       "      <td>0.866025</td>\n",
       "      <td>-0.375828</td>\n",
       "      <td>0.781831</td>\n",
       "      <td>-0.623490</td>\n",
       "      <td>-1.0</td>\n",
       "      <td>1.224647e-16</td>\n",
       "      <td>-1.000000</td>\n",
       "      <td>-5.000000e-01</td>\n",
       "      <td>0.809017</td>\n",
       "    </tr>\n",
       "    <tr>\n",
       "      <th>3</th>\n",
       "      <td>104</td>\n",
       "      <td>2018</td>\n",
       "      <td>0</td>\n",
       "      <td>0.965926</td>\n",
       "      <td>0.968077</td>\n",
       "      <td>-0.250653</td>\n",
       "      <td>0.866025</td>\n",
       "      <td>-0.375828</td>\n",
       "      <td>0.781831</td>\n",
       "      <td>-0.623490</td>\n",
       "      <td>-1.0</td>\n",
       "      <td>9.510565e-01</td>\n",
       "      <td>0.309017</td>\n",
       "      <td>-5.000000e-01</td>\n",
       "      <td>0.809017</td>\n",
       "    </tr>\n",
       "    <tr>\n",
       "      <th>4</th>\n",
       "      <td>81</td>\n",
       "      <td>2018</td>\n",
       "      <td>0</td>\n",
       "      <td>0.923880</td>\n",
       "      <td>0.968077</td>\n",
       "      <td>-0.250653</td>\n",
       "      <td>0.866025</td>\n",
       "      <td>-0.375828</td>\n",
       "      <td>0.781831</td>\n",
       "      <td>-0.623490</td>\n",
       "      <td>-1.0</td>\n",
       "      <td>9.510565e-01</td>\n",
       "      <td>0.309017</td>\n",
       "      <td>-8.660254e-01</td>\n",
       "      <td>0.809017</td>\n",
       "    </tr>\n",
       "    <tr>\n",
       "      <th>...</th>\n",
       "      <td>...</td>\n",
       "      <td>...</td>\n",
       "      <td>...</td>\n",
       "      <td>...</td>\n",
       "      <td>...</td>\n",
       "      <td>...</td>\n",
       "      <td>...</td>\n",
       "      <td>...</td>\n",
       "      <td>...</td>\n",
       "      <td>...</td>\n",
       "      <td>...</td>\n",
       "      <td>...</td>\n",
       "      <td>...</td>\n",
       "      <td>...</td>\n",
       "      <td>...</td>\n",
       "    </tr>\n",
       "    <tr>\n",
       "      <th>18242</th>\n",
       "      <td>95</td>\n",
       "      <td>2021</td>\n",
       "      <td>0</td>\n",
       "      <td>0.608761</td>\n",
       "      <td>0.299363</td>\n",
       "      <td>-0.954139</td>\n",
       "      <td>0.500000</td>\n",
       "      <td>0.889657</td>\n",
       "      <td>0.433884</td>\n",
       "      <td>-0.900969</td>\n",
       "      <td>0.5</td>\n",
       "      <td>5.877853e-01</td>\n",
       "      <td>-0.809017</td>\n",
       "      <td>-1.000000e+00</td>\n",
       "      <td>0.309017</td>\n",
       "    </tr>\n",
       "    <tr>\n",
       "      <th>18243</th>\n",
       "      <td>88</td>\n",
       "      <td>2021</td>\n",
       "      <td>0</td>\n",
       "      <td>0.500000</td>\n",
       "      <td>0.299363</td>\n",
       "      <td>-0.954139</td>\n",
       "      <td>0.500000</td>\n",
       "      <td>0.889657</td>\n",
       "      <td>0.433884</td>\n",
       "      <td>-0.900969</td>\n",
       "      <td>0.5</td>\n",
       "      <td>5.877853e-01</td>\n",
       "      <td>-0.809017</td>\n",
       "      <td>-1.000000e+00</td>\n",
       "      <td>0.309017</td>\n",
       "    </tr>\n",
       "    <tr>\n",
       "      <th>18244</th>\n",
       "      <td>39</td>\n",
       "      <td>2021</td>\n",
       "      <td>0</td>\n",
       "      <td>0.382683</td>\n",
       "      <td>0.299363</td>\n",
       "      <td>-0.954139</td>\n",
       "      <td>0.500000</td>\n",
       "      <td>0.889657</td>\n",
       "      <td>0.433884</td>\n",
       "      <td>-0.900969</td>\n",
       "      <td>0.5</td>\n",
       "      <td>5.877853e-01</td>\n",
       "      <td>-0.809017</td>\n",
       "      <td>-1.000000e+00</td>\n",
       "      <td>0.309017</td>\n",
       "    </tr>\n",
       "    <tr>\n",
       "      <th>18245</th>\n",
       "      <td>104</td>\n",
       "      <td>2021</td>\n",
       "      <td>0</td>\n",
       "      <td>0.258819</td>\n",
       "      <td>0.299363</td>\n",
       "      <td>-0.954139</td>\n",
       "      <td>0.500000</td>\n",
       "      <td>0.889657</td>\n",
       "      <td>0.433884</td>\n",
       "      <td>-0.900969</td>\n",
       "      <td>0.5</td>\n",
       "      <td>5.877853e-01</td>\n",
       "      <td>-0.809017</td>\n",
       "      <td>-1.000000e+00</td>\n",
       "      <td>0.309017</td>\n",
       "    </tr>\n",
       "    <tr>\n",
       "      <th>18246</th>\n",
       "      <td>85</td>\n",
       "      <td>2021</td>\n",
       "      <td>0</td>\n",
       "      <td>0.130526</td>\n",
       "      <td>0.299363</td>\n",
       "      <td>-0.954139</td>\n",
       "      <td>0.500000</td>\n",
       "      <td>0.889657</td>\n",
       "      <td>0.433884</td>\n",
       "      <td>-0.900969</td>\n",
       "      <td>0.5</td>\n",
       "      <td>5.877853e-01</td>\n",
       "      <td>-0.809017</td>\n",
       "      <td>-1.000000e+00</td>\n",
       "      <td>0.309017</td>\n",
       "    </tr>\n",
       "  </tbody>\n",
       "</table>\n",
       "<p>18247 rows × 15 columns</p>\n",
       "</div>"
      ],
      "text/plain": [
       "       demand  year  Holiday  hour-sin   day-sin   day-cos  month-sin  \\\n",
       "0          91  2018        0  0.923880  0.968077 -0.250653   0.866025   \n",
       "1          21  2018        0  0.965926  0.968077 -0.250653   0.866025   \n",
       "2          23  2018        0  0.991445  0.968077 -0.250653   0.866025   \n",
       "3         104  2018        0  0.965926  0.968077 -0.250653   0.866025   \n",
       "4          81  2018        0  0.923880  0.968077 -0.250653   0.866025   \n",
       "...       ...   ...      ...       ...       ...       ...        ...   \n",
       "18242      95  2021        0  0.608761  0.299363 -0.954139   0.500000   \n",
       "18243      88  2021        0  0.500000  0.299363 -0.954139   0.500000   \n",
       "18244      39  2021        0  0.382683  0.299363 -0.954139   0.500000   \n",
       "18245     104  2021        0  0.258819  0.299363 -0.954139   0.500000   \n",
       "18246      85  2021        0  0.130526  0.299363 -0.954139   0.500000   \n",
       "\n",
       "       Week-cos  Day_name-sin  Day_name-cos  Quarter-cos  hour_class-sin  \\\n",
       "0     -0.375828      0.781831     -0.623490         -1.0    9.510565e-01   \n",
       "1     -0.375828      0.781831     -0.623490         -1.0    1.224647e-16   \n",
       "2     -0.375828      0.781831     -0.623490         -1.0    1.224647e-16   \n",
       "3     -0.375828      0.781831     -0.623490         -1.0    9.510565e-01   \n",
       "4     -0.375828      0.781831     -0.623490         -1.0    9.510565e-01   \n",
       "...         ...           ...           ...          ...             ...   \n",
       "18242  0.889657      0.433884     -0.900969          0.5    5.877853e-01   \n",
       "18243  0.889657      0.433884     -0.900969          0.5    5.877853e-01   \n",
       "18244  0.889657      0.433884     -0.900969          0.5    5.877853e-01   \n",
       "18245  0.889657      0.433884     -0.900969          0.5    5.877853e-01   \n",
       "18246  0.889657      0.433884     -0.900969          0.5    5.877853e-01   \n",
       "\n",
       "       hour_class-cos  TimeofDay-cos  Season-cos  \n",
       "0           -0.309017   6.123234e-17    0.809017  \n",
       "1           -1.000000   6.123234e-17    0.809017  \n",
       "2           -1.000000  -5.000000e-01    0.809017  \n",
       "3            0.309017  -5.000000e-01    0.809017  \n",
       "4            0.309017  -8.660254e-01    0.809017  \n",
       "...               ...            ...         ...  \n",
       "18242       -0.809017  -1.000000e+00    0.309017  \n",
       "18243       -0.809017  -1.000000e+00    0.309017  \n",
       "18244       -0.809017  -1.000000e+00    0.309017  \n",
       "18245       -0.809017  -1.000000e+00    0.309017  \n",
       "18246       -0.809017  -1.000000e+00    0.309017  \n",
       "\n",
       "[18247 rows x 15 columns]"
      ]
     },
     "execution_count": 52,
     "metadata": {},
     "output_type": "execute_result"
    }
   ],
   "source": [
    "train_V = train.drop(high,axis =1)\n",
    "train_V"
   ]
  },
  {
   "cell_type": "markdown",
   "id": "4ec9fd81",
   "metadata": {},
   "source": [
    "### Modelling"
   ]
  },
  {
   "cell_type": "code",
   "execution_count": 53,
   "id": "8330e8d7",
   "metadata": {},
   "outputs": [],
   "source": [
    "X_train,X_test,y_train,y_test = split(train_V)"
   ]
  },
  {
   "cell_type": "code",
   "execution_count": 54,
   "id": "707703b4",
   "metadata": {},
   "outputs": [
    {
     "data": {
      "text/plain": [
       "0.2084892997530513"
      ]
     },
     "execution_count": 54,
     "metadata": {},
     "output_type": "execute_result"
    }
   ],
   "source": [
    "from sklearn.linear_model import LinearRegression\n",
    "from sklearn.metrics import r2_score,mean_squared_error\n",
    "lr = LinearRegression()\n",
    "lr.fit(X_test,y_test)\n",
    "lr.score(X_test,y_test)"
   ]
  },
  {
   "cell_type": "code",
   "execution_count": 55,
   "id": "78647a89",
   "metadata": {},
   "outputs": [
    {
     "name": "stdout",
     "output_type": "stream",
     "text": [
      "MSE: 1529.8824809442533\n",
      "R_square: 0.2084892997530513\n"
     ]
    }
   ],
   "source": [
    "y_pred = lr.predict(X_test)\n",
    "print(\"MSE:\",mean_squared_error(y_pred,y_test))\n",
    "print(\"R_square:\",r2_score(y_test,y_pred))"
   ]
  },
  {
   "cell_type": "markdown",
   "id": "57daf27c",
   "metadata": {},
   "source": [
    "###### Modelling Before dropping Variables"
   ]
  },
  {
   "cell_type": "code",
   "execution_count": 56,
   "id": "f468c000",
   "metadata": {},
   "outputs": [
    {
     "data": {
      "text/plain": [
       "0.2407835536711629"
      ]
     },
     "execution_count": 56,
     "metadata": {},
     "output_type": "execute_result"
    }
   ],
   "source": [
    "\n",
    "X_train,X_test,y_train,y_test = split(train)\n",
    "lr.fit(X_test,y_test)\n",
    "#lrsel=lr.fit(X_test,y_test)\n",
    "lr.score(X_test,y_test)"
   ]
  },
  {
   "cell_type": "code",
   "execution_count": 57,
   "id": "3aac81de",
   "metadata": {},
   "outputs": [
    {
     "data": {
      "text/plain": [
       "1467.462082471978"
      ]
     },
     "execution_count": 57,
     "metadata": {},
     "output_type": "execute_result"
    }
   ],
   "source": [
    "y_pred = lr.predict(X_test)\n",
    "mean_squared_error(y_pred,y_test)"
   ]
  },
  {
   "cell_type": "markdown",
   "id": "a2df4e6d",
   "metadata": {},
   "source": [
    "### Gradient Boost Regressor"
   ]
  },
  {
   "cell_type": "code",
   "execution_count": 58,
   "id": "4d4f00f0",
   "metadata": {},
   "outputs": [
    {
     "data": {
      "text/plain": [
       "0.42458341049269166"
      ]
     },
     "execution_count": 58,
     "metadata": {},
     "output_type": "execute_result"
    }
   ],
   "source": [
    "from sklearn.ensemble import GradientBoostingRegressor\n",
    "gb = GradientBoostingRegressor()\n",
    "X_train,X_test,y_train,y_test = split(train_V)\n",
    "gb.fit(X_test,y_test)\n",
    "gb.score(X_test,y_test)"
   ]
  },
  {
   "cell_type": "code",
   "execution_count": 59,
   "id": "a263bbef",
   "metadata": {},
   "outputs": [
    {
     "data": {
      "text/plain": [
       "1112.2019692939905"
      ]
     },
     "execution_count": 59,
     "metadata": {},
     "output_type": "execute_result"
    }
   ],
   "source": [
    "y_pred = gb.predict(X_test)\n",
    "mean_squared_error(y_pred,y_test)"
   ]
  },
  {
   "cell_type": "markdown",
   "id": "3d8d8a85",
   "metadata": {},
   "source": [
    "### Xgboost"
   ]
  },
  {
   "cell_type": "code",
   "execution_count": 60,
   "id": "5ed6a986",
   "metadata": {},
   "outputs": [
    {
     "name": "stdout",
     "output_type": "stream",
     "text": [
      "RMSE value :  1271.3742488293403\n",
      "R2 score :  0.34223292671097794\n"
     ]
    }
   ],
   "source": [
    "from xgboost import XGBRegressor\n",
    "xgb = XGBRegressor(n_estimators=1000, max_depth=5, eta=0.1, subsample=0.7, colsample_bytree=0.8)\n",
    "xgb.fit(X_train, y_train)\n",
    "y_xgb = xgb.predict(X_test)\n",
    "## RSME measure and R2 score\n",
    "print('RMSE value : ',mean_squared_error(y_test, y_xgb))\n",
    "print('R2 score : ', r2_score(y_test, y_xgb))"
   ]
  },
  {
   "cell_type": "markdown",
   "id": "0796b215",
   "metadata": {},
   "source": [
    "### lightgbm"
   ]
  },
  {
   "cell_type": "code",
   "execution_count": 61,
   "id": "162528da",
   "metadata": {},
   "outputs": [],
   "source": [
    "from lightgbm import LGBMRegressor\n",
    "lgm_reg = LGBMRegressor()\n",
    "lgm_reg.fit(X_train, y_train)\n",
    "y_lgm_reg = lgm_reg.predict(X_test)"
   ]
  },
  {
   "cell_type": "code",
   "execution_count": 62,
   "id": "8cb4fbfc",
   "metadata": {},
   "outputs": [
    {
     "name": "stdout",
     "output_type": "stream",
     "text": [
      "RMSE value :  1330.963429501742\n",
      "R2 score :  0.3114034514351752\n"
     ]
    }
   ],
   "source": [
    "print('RMSE value : ',mean_squared_error(y_test, y_lgm_reg))\n",
    "print('R2 score : ', r2_score(y_test, y_lgm_reg))"
   ]
  },
  {
   "cell_type": "markdown",
   "id": "dad74991",
   "metadata": {},
   "source": [
    "Test DataFrame"
   ]
  },
  {
   "cell_type": "code",
   "execution_count": 63,
   "id": "d1843685",
   "metadata": {},
   "outputs": [],
   "source": [
    "test = pd.read_csv('test_6QvDdzb.csv') "
   ]
  },
  {
   "cell_type": "code",
   "execution_count": 64,
   "id": "d26aaf21",
   "metadata": {},
   "outputs": [
    {
     "data": {
      "text/html": [
       "<div>\n",
       "<style scoped>\n",
       "    .dataframe tbody tr th:only-of-type {\n",
       "        vertical-align: middle;\n",
       "    }\n",
       "\n",
       "    .dataframe tbody tr th {\n",
       "        vertical-align: top;\n",
       "    }\n",
       "\n",
       "    .dataframe thead th {\n",
       "        text-align: right;\n",
       "    }\n",
       "</style>\n",
       "<table border=\"1\" class=\"dataframe\">\n",
       "  <thead>\n",
       "    <tr style=\"text-align: right;\">\n",
       "      <th></th>\n",
       "      <th>date</th>\n",
       "      <th>hour</th>\n",
       "    </tr>\n",
       "  </thead>\n",
       "  <tbody>\n",
       "    <tr>\n",
       "      <th>0</th>\n",
       "      <td>2021-03-01</td>\n",
       "      <td>0</td>\n",
       "    </tr>\n",
       "    <tr>\n",
       "      <th>1</th>\n",
       "      <td>2021-03-01</td>\n",
       "      <td>1</td>\n",
       "    </tr>\n",
       "    <tr>\n",
       "      <th>2</th>\n",
       "      <td>2021-03-01</td>\n",
       "      <td>2</td>\n",
       "    </tr>\n",
       "    <tr>\n",
       "      <th>3</th>\n",
       "      <td>2021-03-01</td>\n",
       "      <td>3</td>\n",
       "    </tr>\n",
       "    <tr>\n",
       "      <th>4</th>\n",
       "      <td>2021-03-01</td>\n",
       "      <td>5</td>\n",
       "    </tr>\n",
       "  </tbody>\n",
       "</table>\n",
       "</div>"
      ],
      "text/plain": [
       "         date  hour\n",
       "0  2021-03-01     0\n",
       "1  2021-03-01     1\n",
       "2  2021-03-01     2\n",
       "3  2021-03-01     3\n",
       "4  2021-03-01     5"
      ]
     },
     "execution_count": 64,
     "metadata": {},
     "output_type": "execute_result"
    }
   ],
   "source": [
    "test.head()"
   ]
  },
  {
   "cell_type": "code",
   "execution_count": 65,
   "id": "73d60b17",
   "metadata": {},
   "outputs": [
    {
     "data": {
      "text/plain": [
       "date    0\n",
       "hour    0\n",
       "dtype: int64"
      ]
     },
     "execution_count": 65,
     "metadata": {},
     "output_type": "execute_result"
    }
   ],
   "source": [
    "test.isna().sum()"
   ]
  },
  {
   "cell_type": "code",
   "execution_count": 66,
   "id": "8dcaa5f4",
   "metadata": {},
   "outputs": [],
   "source": [
    "# Convert objective datatype of date to datetime format\n",
    "test['date'] = pd.to_datetime(test['date'],errors = 'coerce') \n",
    "# decompose date variable into year, month and day\n",
    "test['year'] = test['date'].dt.year\n",
    "test['month'] = test['date'].dt.month\n",
    "test['day'] = test['date'].dt.day\n",
    "\n",
    "#Day convertion\n",
    "test['Week'] =(test['date'].dt.isocalendar().week).astype(int)\n",
    "test['Day_name'] = test['date'].dt.dayofweek\n",
    "test['Day_of_Year']=test['date'].dt.dayofyear\n",
    "test['Quarter'] = test['date'].dt.quarter\n",
    "test['TimeofDay']=test['hour'].apply(lambda n:timeofday(n))\n",
    "\n",
    "test['Season']=test['month'].apply(lambda s:season(s))\n",
    "test['Holiday'] = test['date'].isin(holidays)\n",
    "test['Holiday'] = test['Holiday'].astype(int)\n",
    "\n",
    "test['hour_class'] = pd.cut(test['hour'],5,labels=['Early_Morning','Morning','Noon','Evening','Night'])"
   ]
  },
  {
   "cell_type": "code",
   "execution_count": 67,
   "id": "3ae11fb6",
   "metadata": {},
   "outputs": [
    {
     "data": {
      "text/plain": [
       "(7650, 13)"
      ]
     },
     "execution_count": 67,
     "metadata": {},
     "output_type": "execute_result"
    }
   ],
   "source": [
    "test.shape"
   ]
  },
  {
   "cell_type": "code",
   "execution_count": 68,
   "id": "1493cf83",
   "metadata": {},
   "outputs": [
    {
     "data": {
      "text/plain": [
       "date           datetime64[ns]\n",
       "hour                    int64\n",
       "year                    int64\n",
       "month                   int64\n",
       "day                     int64\n",
       "Week                    int32\n",
       "Day_name                int64\n",
       "Day_of_Year             int64\n",
       "Quarter                 int64\n",
       "TimeofDay               int64\n",
       "Season                 object\n",
       "Holiday                 int32\n",
       "hour_class           category\n",
       "dtype: object"
      ]
     },
     "execution_count": 68,
     "metadata": {},
     "output_type": "execute_result"
    }
   ],
   "source": [
    "test.dtypes"
   ]
  },
  {
   "cell_type": "markdown",
   "id": "0c471ec9",
   "metadata": {},
   "source": [
    "### ENCODE"
   ]
  },
  {
   "cell_type": "code",
   "execution_count": 69,
   "id": "ac0e16f3",
   "metadata": {},
   "outputs": [
    {
     "name": "stderr",
     "output_type": "stream",
     "text": [
      "D:\\Progrmfilesdownloaded\\Python310\\lib\\site-packages\\sklearn\\preprocessing\\_label.py:115: DataConversionWarning: A column-vector y was passed when a 1d array was expected. Please change the shape of y to (n_samples, ), for example using ravel().\n",
      "  y = column_or_1d(y, warn=True)\n",
      "D:\\Progrmfilesdownloaded\\Python310\\lib\\site-packages\\sklearn\\preprocessing\\_label.py:115: DataConversionWarning: A column-vector y was passed when a 1d array was expected. Please change the shape of y to (n_samples, ), for example using ravel().\n",
      "  y = column_or_1d(y, warn=True)\n"
     ]
    }
   ],
   "source": [
    "test ['Season'] = le.fit_transform(test[['Season']])\n",
    "test['hour_class'] = le.fit_transform(test[['hour_class']])"
   ]
  },
  {
   "cell_type": "markdown",
   "id": "f6441cb0",
   "metadata": {},
   "source": [
    "Cyclic Normalization"
   ]
  },
  {
   "cell_type": "code",
   "execution_count": 70,
   "id": "f2f33a59",
   "metadata": {},
   "outputs": [],
   "source": [
    "test['hour-sin'] = np.sin(test['hour']*np.pi/24)\n",
    "test['hour-cos'] = np.cos(test['hour']*np.pi/24)\n",
    "test.drop('hour', axis =1, inplace =True)\n",
    "\n",
    "test['Day_of_Year-sin'] = np.sin(test['Day_of_Year']*np.pi/365)\n",
    "test['Day_of_Year-cos'] = np.cos(test['Day_of_Year']*np.pi/365)\n",
    "test.drop('Day_of_Year', axis =1, inplace =True)\n",
    "\n",
    "test['day-sin'] = np.sin(test['day']*np.pi/31)\n",
    "test['day-cos'] = np.cos(test['day']*np.pi/31)\n",
    "test.drop('day', axis =1, inplace =True)\n",
    "\n",
    "test['month-sin'] = np.sin(test['month']*np.pi/12)\n",
    "test['month-cos'] = np.cos(test['month']*np.pi/12)\n",
    "test.drop('month', axis =1, inplace =True)\n",
    "\n",
    "test['Week-sin'] = np.sin(test['Week']*np.pi/53)\n",
    "test['Week-cos'] = np.cos(test['Week']*np.pi/53)\n",
    "test.drop('Week', axis =1, inplace =True)\n",
    "\n",
    "test['Day_name-sin'] = np.sin(test['Day_name']*np.pi/7)\n",
    "test['Day_name-cos'] = np.cos(test['Day_name']*np.pi/7)\n",
    "test.drop('Day_name', axis =1, inplace =True)"
   ]
  },
  {
   "cell_type": "code",
   "execution_count": 71,
   "id": "d1b1148e",
   "metadata": {},
   "outputs": [
    {
     "data": {
      "text/plain": [
       "2    1809\n",
       "4    1783\n",
       "3    1590\n",
       "5    1445\n",
       "1    1023\n",
       "Name: hour_class, dtype: int64"
      ]
     },
     "execution_count": 71,
     "metadata": {},
     "output_type": "execute_result"
    }
   ],
   "source": [
    "test['hour_class']= test['hour_class'] +1\n",
    "test['hour_class'].value_counts()"
   ]
  },
  {
   "cell_type": "code",
   "execution_count": 72,
   "id": "a824a15a",
   "metadata": {},
   "outputs": [],
   "source": [
    "test['Quarter-sin'] = np.sin(test['Quarter']*np.pi/3)\n",
    "test['Quarter-cos'] = np.cos(test['Quarter']*np.pi/3)\n",
    "test.drop('Quarter', axis =1, inplace =True)\n",
    "\n",
    "test['hour_class-sin'] = np.sin(test['hour_class']*np.pi/5)\n",
    "test['hour_class-cos'] = np.cos(test['hour_class']*np.pi/5)\n",
    "test.drop('hour_class', axis =1, inplace =True)\n",
    "\n",
    "test['TimeofDay-sin'] = np.sin(test['TimeofDay']*np.pi/6)\n",
    "test['TimeofDay-cos'] = np.cos(test['TimeofDay']*np.pi/6)\n",
    "test.drop('TimeofDay', axis =1, inplace =True)\n",
    "\n",
    "test['Season-sin'] = np.sin(test['Season']*np.pi/5)\n",
    "test['Season-cos'] = np.cos(test['Season']*np.pi/5)\n",
    "test.drop('Season', axis =1, inplace =True)"
   ]
  },
  {
   "cell_type": "code",
   "execution_count": 73,
   "id": "9957c631",
   "metadata": {},
   "outputs": [
    {
     "data": {
      "text/plain": [
       "(7650, 23)"
      ]
     },
     "execution_count": 73,
     "metadata": {},
     "output_type": "execute_result"
    }
   ],
   "source": [
    "test.shape"
   ]
  },
  {
   "cell_type": "code",
   "execution_count": 74,
   "id": "318587cf",
   "metadata": {},
   "outputs": [
    {
     "data": {
      "text/plain": [
       "['Quarter-sin',\n",
       " 'month-cos',\n",
       " 'Day_of_Year-cos',\n",
       " 'Week-sin',\n",
       " 'Day_of_Year-sin',\n",
       " 'hour-cos',\n",
       " 'TimeofDay-sin',\n",
       " 'Season-sin']"
      ]
     },
     "execution_count": 74,
     "metadata": {},
     "output_type": "execute_result"
    }
   ],
   "source": [
    "high"
   ]
  },
  {
   "cell_type": "code",
   "execution_count": 75,
   "id": "184857dc",
   "metadata": {},
   "outputs": [
    {
     "data": {
      "text/html": [
       "<div>\n",
       "<style scoped>\n",
       "    .dataframe tbody tr th:only-of-type {\n",
       "        vertical-align: middle;\n",
       "    }\n",
       "\n",
       "    .dataframe tbody tr th {\n",
       "        vertical-align: top;\n",
       "    }\n",
       "\n",
       "    .dataframe thead th {\n",
       "        text-align: right;\n",
       "    }\n",
       "</style>\n",
       "<table border=\"1\" class=\"dataframe\">\n",
       "  <thead>\n",
       "    <tr style=\"text-align: right;\">\n",
       "      <th></th>\n",
       "      <th>year</th>\n",
       "      <th>Holiday</th>\n",
       "      <th>hour-sin</th>\n",
       "      <th>day-sin</th>\n",
       "      <th>day-cos</th>\n",
       "      <th>month-sin</th>\n",
       "      <th>Week-cos</th>\n",
       "      <th>Day_name-sin</th>\n",
       "      <th>Day_name-cos</th>\n",
       "      <th>Quarter-cos</th>\n",
       "      <th>hour_class-sin</th>\n",
       "      <th>hour_class-cos</th>\n",
       "      <th>TimeofDay-cos</th>\n",
       "      <th>Season-cos</th>\n",
       "    </tr>\n",
       "  </thead>\n",
       "  <tbody>\n",
       "    <tr>\n",
       "      <th>0</th>\n",
       "      <td>2021</td>\n",
       "      <td>0</td>\n",
       "      <td>0.000000</td>\n",
       "      <td>0.101168</td>\n",
       "      <td>0.994869</td>\n",
       "      <td>0.707107</td>\n",
       "      <td>0.861044</td>\n",
       "      <td>0.0</td>\n",
       "      <td>1.0</td>\n",
       "      <td>0.5</td>\n",
       "      <td>0.587785</td>\n",
       "      <td>0.809017</td>\n",
       "      <td>-1.000000</td>\n",
       "      <td>0.309017</td>\n",
       "    </tr>\n",
       "    <tr>\n",
       "      <th>1</th>\n",
       "      <td>2021</td>\n",
       "      <td>0</td>\n",
       "      <td>0.130526</td>\n",
       "      <td>0.101168</td>\n",
       "      <td>0.994869</td>\n",
       "      <td>0.707107</td>\n",
       "      <td>0.861044</td>\n",
       "      <td>0.0</td>\n",
       "      <td>1.0</td>\n",
       "      <td>0.5</td>\n",
       "      <td>0.587785</td>\n",
       "      <td>0.809017</td>\n",
       "      <td>0.866025</td>\n",
       "      <td>0.309017</td>\n",
       "    </tr>\n",
       "    <tr>\n",
       "      <th>2</th>\n",
       "      <td>2021</td>\n",
       "      <td>0</td>\n",
       "      <td>0.258819</td>\n",
       "      <td>0.101168</td>\n",
       "      <td>0.994869</td>\n",
       "      <td>0.707107</td>\n",
       "      <td>0.861044</td>\n",
       "      <td>0.0</td>\n",
       "      <td>1.0</td>\n",
       "      <td>0.5</td>\n",
       "      <td>0.587785</td>\n",
       "      <td>0.809017</td>\n",
       "      <td>0.866025</td>\n",
       "      <td>0.309017</td>\n",
       "    </tr>\n",
       "    <tr>\n",
       "      <th>3</th>\n",
       "      <td>2021</td>\n",
       "      <td>0</td>\n",
       "      <td>0.382683</td>\n",
       "      <td>0.101168</td>\n",
       "      <td>0.994869</td>\n",
       "      <td>0.707107</td>\n",
       "      <td>0.861044</td>\n",
       "      <td>0.0</td>\n",
       "      <td>1.0</td>\n",
       "      <td>0.5</td>\n",
       "      <td>0.587785</td>\n",
       "      <td>0.809017</td>\n",
       "      <td>0.866025</td>\n",
       "      <td>0.309017</td>\n",
       "    </tr>\n",
       "    <tr>\n",
       "      <th>4</th>\n",
       "      <td>2021</td>\n",
       "      <td>0</td>\n",
       "      <td>0.608761</td>\n",
       "      <td>0.101168</td>\n",
       "      <td>0.994869</td>\n",
       "      <td>0.707107</td>\n",
       "      <td>0.861044</td>\n",
       "      <td>0.0</td>\n",
       "      <td>1.0</td>\n",
       "      <td>0.5</td>\n",
       "      <td>0.951057</td>\n",
       "      <td>-0.309017</td>\n",
       "      <td>0.500000</td>\n",
       "      <td>0.309017</td>\n",
       "    </tr>\n",
       "    <tr>\n",
       "      <th>...</th>\n",
       "      <td>...</td>\n",
       "      <td>...</td>\n",
       "      <td>...</td>\n",
       "      <td>...</td>\n",
       "      <td>...</td>\n",
       "      <td>...</td>\n",
       "      <td>...</td>\n",
       "      <td>...</td>\n",
       "      <td>...</td>\n",
       "      <td>...</td>\n",
       "      <td>...</td>\n",
       "      <td>...</td>\n",
       "      <td>...</td>\n",
       "      <td>...</td>\n",
       "    </tr>\n",
       "    <tr>\n",
       "      <th>7645</th>\n",
       "      <td>2022</td>\n",
       "      <td>0</td>\n",
       "      <td>0.608761</td>\n",
       "      <td>0.299363</td>\n",
       "      <td>-0.954139</td>\n",
       "      <td>0.707107</td>\n",
       "      <td>0.717507</td>\n",
       "      <td>0.0</td>\n",
       "      <td>1.0</td>\n",
       "      <td>0.5</td>\n",
       "      <td>0.587785</td>\n",
       "      <td>-0.809017</td>\n",
       "      <td>-1.000000</td>\n",
       "      <td>0.309017</td>\n",
       "    </tr>\n",
       "    <tr>\n",
       "      <th>7646</th>\n",
       "      <td>2022</td>\n",
       "      <td>0</td>\n",
       "      <td>0.500000</td>\n",
       "      <td>0.299363</td>\n",
       "      <td>-0.954139</td>\n",
       "      <td>0.707107</td>\n",
       "      <td>0.717507</td>\n",
       "      <td>0.0</td>\n",
       "      <td>1.0</td>\n",
       "      <td>0.5</td>\n",
       "      <td>0.587785</td>\n",
       "      <td>-0.809017</td>\n",
       "      <td>-1.000000</td>\n",
       "      <td>0.309017</td>\n",
       "    </tr>\n",
       "    <tr>\n",
       "      <th>7647</th>\n",
       "      <td>2022</td>\n",
       "      <td>0</td>\n",
       "      <td>0.382683</td>\n",
       "      <td>0.299363</td>\n",
       "      <td>-0.954139</td>\n",
       "      <td>0.707107</td>\n",
       "      <td>0.717507</td>\n",
       "      <td>0.0</td>\n",
       "      <td>1.0</td>\n",
       "      <td>0.5</td>\n",
       "      <td>0.587785</td>\n",
       "      <td>-0.809017</td>\n",
       "      <td>-1.000000</td>\n",
       "      <td>0.309017</td>\n",
       "    </tr>\n",
       "    <tr>\n",
       "      <th>7648</th>\n",
       "      <td>2022</td>\n",
       "      <td>0</td>\n",
       "      <td>0.258819</td>\n",
       "      <td>0.299363</td>\n",
       "      <td>-0.954139</td>\n",
       "      <td>0.707107</td>\n",
       "      <td>0.717507</td>\n",
       "      <td>0.0</td>\n",
       "      <td>1.0</td>\n",
       "      <td>0.5</td>\n",
       "      <td>0.587785</td>\n",
       "      <td>-0.809017</td>\n",
       "      <td>-1.000000</td>\n",
       "      <td>0.309017</td>\n",
       "    </tr>\n",
       "    <tr>\n",
       "      <th>7649</th>\n",
       "      <td>2022</td>\n",
       "      <td>0</td>\n",
       "      <td>0.130526</td>\n",
       "      <td>0.299363</td>\n",
       "      <td>-0.954139</td>\n",
       "      <td>0.707107</td>\n",
       "      <td>0.717507</td>\n",
       "      <td>0.0</td>\n",
       "      <td>1.0</td>\n",
       "      <td>0.5</td>\n",
       "      <td>0.587785</td>\n",
       "      <td>-0.809017</td>\n",
       "      <td>-1.000000</td>\n",
       "      <td>0.309017</td>\n",
       "    </tr>\n",
       "  </tbody>\n",
       "</table>\n",
       "<p>7650 rows × 14 columns</p>\n",
       "</div>"
      ],
      "text/plain": [
       "      year  Holiday  hour-sin   day-sin   day-cos  month-sin  Week-cos  \\\n",
       "0     2021        0  0.000000  0.101168  0.994869   0.707107  0.861044   \n",
       "1     2021        0  0.130526  0.101168  0.994869   0.707107  0.861044   \n",
       "2     2021        0  0.258819  0.101168  0.994869   0.707107  0.861044   \n",
       "3     2021        0  0.382683  0.101168  0.994869   0.707107  0.861044   \n",
       "4     2021        0  0.608761  0.101168  0.994869   0.707107  0.861044   \n",
       "...    ...      ...       ...       ...       ...        ...       ...   \n",
       "7645  2022        0  0.608761  0.299363 -0.954139   0.707107  0.717507   \n",
       "7646  2022        0  0.500000  0.299363 -0.954139   0.707107  0.717507   \n",
       "7647  2022        0  0.382683  0.299363 -0.954139   0.707107  0.717507   \n",
       "7648  2022        0  0.258819  0.299363 -0.954139   0.707107  0.717507   \n",
       "7649  2022        0  0.130526  0.299363 -0.954139   0.707107  0.717507   \n",
       "\n",
       "      Day_name-sin  Day_name-cos  Quarter-cos  hour_class-sin  hour_class-cos  \\\n",
       "0              0.0           1.0          0.5        0.587785        0.809017   \n",
       "1              0.0           1.0          0.5        0.587785        0.809017   \n",
       "2              0.0           1.0          0.5        0.587785        0.809017   \n",
       "3              0.0           1.0          0.5        0.587785        0.809017   \n",
       "4              0.0           1.0          0.5        0.951057       -0.309017   \n",
       "...            ...           ...          ...             ...             ...   \n",
       "7645           0.0           1.0          0.5        0.587785       -0.809017   \n",
       "7646           0.0           1.0          0.5        0.587785       -0.809017   \n",
       "7647           0.0           1.0          0.5        0.587785       -0.809017   \n",
       "7648           0.0           1.0          0.5        0.587785       -0.809017   \n",
       "7649           0.0           1.0          0.5        0.587785       -0.809017   \n",
       "\n",
       "      TimeofDay-cos  Season-cos  \n",
       "0         -1.000000    0.309017  \n",
       "1          0.866025    0.309017  \n",
       "2          0.866025    0.309017  \n",
       "3          0.866025    0.309017  \n",
       "4          0.500000    0.309017  \n",
       "...             ...         ...  \n",
       "7645      -1.000000    0.309017  \n",
       "7646      -1.000000    0.309017  \n",
       "7647      -1.000000    0.309017  \n",
       "7648      -1.000000    0.309017  \n",
       "7649      -1.000000    0.309017  \n",
       "\n",
       "[7650 rows x 14 columns]"
      ]
     },
     "execution_count": 75,
     "metadata": {},
     "output_type": "execute_result"
    }
   ],
   "source": [
    "test = test.drop(['Quarter-sin',\n",
    " 'month-cos',\n",
    " 'Day_of_Year-cos',\n",
    " 'Week-sin',\n",
    " 'Day_of_Year-sin',\n",
    " 'hour-cos',\n",
    " 'TimeofDay-sin',\n",
    " 'Season-sin','date'],axis =1)\n",
    "test"
   ]
  },
  {
   "cell_type": "code",
   "execution_count": 76,
   "id": "0d654035",
   "metadata": {
    "scrolled": true
   },
   "outputs": [],
   "source": [
    "y_test = gb.predict(test)"
   ]
  },
  {
   "cell_type": "code",
   "execution_count": 77,
   "id": "5201a813",
   "metadata": {},
   "outputs": [],
   "source": [
    "test['demand']=y_test"
   ]
  },
  {
   "cell_type": "code",
   "execution_count": 78,
   "id": "8fb7c409",
   "metadata": {},
   "outputs": [
    {
     "data": {
      "text/html": [
       "<div>\n",
       "<style scoped>\n",
       "    .dataframe tbody tr th:only-of-type {\n",
       "        vertical-align: middle;\n",
       "    }\n",
       "\n",
       "    .dataframe tbody tr th {\n",
       "        vertical-align: top;\n",
       "    }\n",
       "\n",
       "    .dataframe thead th {\n",
       "        text-align: right;\n",
       "    }\n",
       "</style>\n",
       "<table border=\"1\" class=\"dataframe\">\n",
       "  <thead>\n",
       "    <tr style=\"text-align: right;\">\n",
       "      <th></th>\n",
       "      <th>year</th>\n",
       "      <th>Holiday</th>\n",
       "      <th>hour-sin</th>\n",
       "      <th>day-sin</th>\n",
       "      <th>day-cos</th>\n",
       "      <th>month-sin</th>\n",
       "      <th>Week-cos</th>\n",
       "      <th>Day_name-sin</th>\n",
       "      <th>Day_name-cos</th>\n",
       "      <th>Quarter-cos</th>\n",
       "      <th>hour_class-sin</th>\n",
       "      <th>hour_class-cos</th>\n",
       "      <th>TimeofDay-cos</th>\n",
       "      <th>Season-cos</th>\n",
       "      <th>demand</th>\n",
       "    </tr>\n",
       "  </thead>\n",
       "  <tbody>\n",
       "    <tr>\n",
       "      <th>0</th>\n",
       "      <td>2021</td>\n",
       "      <td>0</td>\n",
       "      <td>0.000000</td>\n",
       "      <td>0.101168</td>\n",
       "      <td>0.994869</td>\n",
       "      <td>0.707107</td>\n",
       "      <td>0.861044</td>\n",
       "      <td>0.0</td>\n",
       "      <td>1.0</td>\n",
       "      <td>0.5</td>\n",
       "      <td>0.587785</td>\n",
       "      <td>0.809017</td>\n",
       "      <td>-1.000000</td>\n",
       "      <td>0.309017</td>\n",
       "      <td>53.754729</td>\n",
       "    </tr>\n",
       "    <tr>\n",
       "      <th>1</th>\n",
       "      <td>2021</td>\n",
       "      <td>0</td>\n",
       "      <td>0.130526</td>\n",
       "      <td>0.101168</td>\n",
       "      <td>0.994869</td>\n",
       "      <td>0.707107</td>\n",
       "      <td>0.861044</td>\n",
       "      <td>0.0</td>\n",
       "      <td>1.0</td>\n",
       "      <td>0.5</td>\n",
       "      <td>0.587785</td>\n",
       "      <td>0.809017</td>\n",
       "      <td>0.866025</td>\n",
       "      <td>0.309017</td>\n",
       "      <td>54.755152</td>\n",
       "    </tr>\n",
       "    <tr>\n",
       "      <th>2</th>\n",
       "      <td>2021</td>\n",
       "      <td>0</td>\n",
       "      <td>0.258819</td>\n",
       "      <td>0.101168</td>\n",
       "      <td>0.994869</td>\n",
       "      <td>0.707107</td>\n",
       "      <td>0.861044</td>\n",
       "      <td>0.0</td>\n",
       "      <td>1.0</td>\n",
       "      <td>0.5</td>\n",
       "      <td>0.587785</td>\n",
       "      <td>0.809017</td>\n",
       "      <td>0.866025</td>\n",
       "      <td>0.309017</td>\n",
       "      <td>55.039680</td>\n",
       "    </tr>\n",
       "    <tr>\n",
       "      <th>3</th>\n",
       "      <td>2021</td>\n",
       "      <td>0</td>\n",
       "      <td>0.382683</td>\n",
       "      <td>0.101168</td>\n",
       "      <td>0.994869</td>\n",
       "      <td>0.707107</td>\n",
       "      <td>0.861044</td>\n",
       "      <td>0.0</td>\n",
       "      <td>1.0</td>\n",
       "      <td>0.5</td>\n",
       "      <td>0.587785</td>\n",
       "      <td>0.809017</td>\n",
       "      <td>0.866025</td>\n",
       "      <td>0.309017</td>\n",
       "      <td>55.039680</td>\n",
       "    </tr>\n",
       "    <tr>\n",
       "      <th>4</th>\n",
       "      <td>2021</td>\n",
       "      <td>0</td>\n",
       "      <td>0.608761</td>\n",
       "      <td>0.101168</td>\n",
       "      <td>0.994869</td>\n",
       "      <td>0.707107</td>\n",
       "      <td>0.861044</td>\n",
       "      <td>0.0</td>\n",
       "      <td>1.0</td>\n",
       "      <td>0.5</td>\n",
       "      <td>0.951057</td>\n",
       "      <td>-0.309017</td>\n",
       "      <td>0.500000</td>\n",
       "      <td>0.309017</td>\n",
       "      <td>56.056926</td>\n",
       "    </tr>\n",
       "    <tr>\n",
       "      <th>...</th>\n",
       "      <td>...</td>\n",
       "      <td>...</td>\n",
       "      <td>...</td>\n",
       "      <td>...</td>\n",
       "      <td>...</td>\n",
       "      <td>...</td>\n",
       "      <td>...</td>\n",
       "      <td>...</td>\n",
       "      <td>...</td>\n",
       "      <td>...</td>\n",
       "      <td>...</td>\n",
       "      <td>...</td>\n",
       "      <td>...</td>\n",
       "      <td>...</td>\n",
       "      <td>...</td>\n",
       "    </tr>\n",
       "    <tr>\n",
       "      <th>7645</th>\n",
       "      <td>2022</td>\n",
       "      <td>0</td>\n",
       "      <td>0.608761</td>\n",
       "      <td>0.299363</td>\n",
       "      <td>-0.954139</td>\n",
       "      <td>0.707107</td>\n",
       "      <td>0.717507</td>\n",
       "      <td>0.0</td>\n",
       "      <td>1.0</td>\n",
       "      <td>0.5</td>\n",
       "      <td>0.587785</td>\n",
       "      <td>-0.809017</td>\n",
       "      <td>-1.000000</td>\n",
       "      <td>0.309017</td>\n",
       "      <td>70.503933</td>\n",
       "    </tr>\n",
       "    <tr>\n",
       "      <th>7646</th>\n",
       "      <td>2022</td>\n",
       "      <td>0</td>\n",
       "      <td>0.500000</td>\n",
       "      <td>0.299363</td>\n",
       "      <td>-0.954139</td>\n",
       "      <td>0.707107</td>\n",
       "      <td>0.717507</td>\n",
       "      <td>0.0</td>\n",
       "      <td>1.0</td>\n",
       "      <td>0.5</td>\n",
       "      <td>0.587785</td>\n",
       "      <td>-0.809017</td>\n",
       "      <td>-1.000000</td>\n",
       "      <td>0.309017</td>\n",
       "      <td>62.969695</td>\n",
       "    </tr>\n",
       "    <tr>\n",
       "      <th>7647</th>\n",
       "      <td>2022</td>\n",
       "      <td>0</td>\n",
       "      <td>0.382683</td>\n",
       "      <td>0.299363</td>\n",
       "      <td>-0.954139</td>\n",
       "      <td>0.707107</td>\n",
       "      <td>0.717507</td>\n",
       "      <td>0.0</td>\n",
       "      <td>1.0</td>\n",
       "      <td>0.5</td>\n",
       "      <td>0.587785</td>\n",
       "      <td>-0.809017</td>\n",
       "      <td>-1.000000</td>\n",
       "      <td>0.309017</td>\n",
       "      <td>59.075107</td>\n",
       "    </tr>\n",
       "    <tr>\n",
       "      <th>7648</th>\n",
       "      <td>2022</td>\n",
       "      <td>0</td>\n",
       "      <td>0.258819</td>\n",
       "      <td>0.299363</td>\n",
       "      <td>-0.954139</td>\n",
       "      <td>0.707107</td>\n",
       "      <td>0.717507</td>\n",
       "      <td>0.0</td>\n",
       "      <td>1.0</td>\n",
       "      <td>0.5</td>\n",
       "      <td>0.587785</td>\n",
       "      <td>-0.809017</td>\n",
       "      <td>-1.000000</td>\n",
       "      <td>0.309017</td>\n",
       "      <td>59.075107</td>\n",
       "    </tr>\n",
       "    <tr>\n",
       "      <th>7649</th>\n",
       "      <td>2022</td>\n",
       "      <td>0</td>\n",
       "      <td>0.130526</td>\n",
       "      <td>0.299363</td>\n",
       "      <td>-0.954139</td>\n",
       "      <td>0.707107</td>\n",
       "      <td>0.717507</td>\n",
       "      <td>0.0</td>\n",
       "      <td>1.0</td>\n",
       "      <td>0.5</td>\n",
       "      <td>0.587785</td>\n",
       "      <td>-0.809017</td>\n",
       "      <td>-1.000000</td>\n",
       "      <td>0.309017</td>\n",
       "      <td>53.285148</td>\n",
       "    </tr>\n",
       "  </tbody>\n",
       "</table>\n",
       "<p>7650 rows × 15 columns</p>\n",
       "</div>"
      ],
      "text/plain": [
       "      year  Holiday  hour-sin   day-sin   day-cos  month-sin  Week-cos  \\\n",
       "0     2021        0  0.000000  0.101168  0.994869   0.707107  0.861044   \n",
       "1     2021        0  0.130526  0.101168  0.994869   0.707107  0.861044   \n",
       "2     2021        0  0.258819  0.101168  0.994869   0.707107  0.861044   \n",
       "3     2021        0  0.382683  0.101168  0.994869   0.707107  0.861044   \n",
       "4     2021        0  0.608761  0.101168  0.994869   0.707107  0.861044   \n",
       "...    ...      ...       ...       ...       ...        ...       ...   \n",
       "7645  2022        0  0.608761  0.299363 -0.954139   0.707107  0.717507   \n",
       "7646  2022        0  0.500000  0.299363 -0.954139   0.707107  0.717507   \n",
       "7647  2022        0  0.382683  0.299363 -0.954139   0.707107  0.717507   \n",
       "7648  2022        0  0.258819  0.299363 -0.954139   0.707107  0.717507   \n",
       "7649  2022        0  0.130526  0.299363 -0.954139   0.707107  0.717507   \n",
       "\n",
       "      Day_name-sin  Day_name-cos  Quarter-cos  hour_class-sin  hour_class-cos  \\\n",
       "0              0.0           1.0          0.5        0.587785        0.809017   \n",
       "1              0.0           1.0          0.5        0.587785        0.809017   \n",
       "2              0.0           1.0          0.5        0.587785        0.809017   \n",
       "3              0.0           1.0          0.5        0.587785        0.809017   \n",
       "4              0.0           1.0          0.5        0.951057       -0.309017   \n",
       "...            ...           ...          ...             ...             ...   \n",
       "7645           0.0           1.0          0.5        0.587785       -0.809017   \n",
       "7646           0.0           1.0          0.5        0.587785       -0.809017   \n",
       "7647           0.0           1.0          0.5        0.587785       -0.809017   \n",
       "7648           0.0           1.0          0.5        0.587785       -0.809017   \n",
       "7649           0.0           1.0          0.5        0.587785       -0.809017   \n",
       "\n",
       "      TimeofDay-cos  Season-cos     demand  \n",
       "0         -1.000000    0.309017  53.754729  \n",
       "1          0.866025    0.309017  54.755152  \n",
       "2          0.866025    0.309017  55.039680  \n",
       "3          0.866025    0.309017  55.039680  \n",
       "4          0.500000    0.309017  56.056926  \n",
       "...             ...         ...        ...  \n",
       "7645      -1.000000    0.309017  70.503933  \n",
       "7646      -1.000000    0.309017  62.969695  \n",
       "7647      -1.000000    0.309017  59.075107  \n",
       "7648      -1.000000    0.309017  59.075107  \n",
       "7649      -1.000000    0.309017  53.285148  \n",
       "\n",
       "[7650 rows x 15 columns]"
      ]
     },
     "execution_count": 78,
     "metadata": {},
     "output_type": "execute_result"
    }
   ],
   "source": [
    "test"
   ]
  },
  {
   "cell_type": "code",
   "execution_count": 79,
   "id": "a9dc5a64",
   "metadata": {},
   "outputs": [
    {
     "data": {
      "text/html": [
       "<div>\n",
       "<style scoped>\n",
       "    .dataframe tbody tr th:only-of-type {\n",
       "        vertical-align: middle;\n",
       "    }\n",
       "\n",
       "    .dataframe tbody tr th {\n",
       "        vertical-align: top;\n",
       "    }\n",
       "\n",
       "    .dataframe thead th {\n",
       "        text-align: right;\n",
       "    }\n",
       "</style>\n",
       "<table border=\"1\" class=\"dataframe\">\n",
       "  <thead>\n",
       "    <tr style=\"text-align: right;\">\n",
       "      <th></th>\n",
       "      <th>date</th>\n",
       "      <th>hour</th>\n",
       "    </tr>\n",
       "  </thead>\n",
       "  <tbody>\n",
       "    <tr>\n",
       "      <th>0</th>\n",
       "      <td>2021-03-01</td>\n",
       "      <td>0</td>\n",
       "    </tr>\n",
       "    <tr>\n",
       "      <th>1</th>\n",
       "      <td>2021-03-01</td>\n",
       "      <td>1</td>\n",
       "    </tr>\n",
       "    <tr>\n",
       "      <th>2</th>\n",
       "      <td>2021-03-01</td>\n",
       "      <td>2</td>\n",
       "    </tr>\n",
       "    <tr>\n",
       "      <th>3</th>\n",
       "      <td>2021-03-01</td>\n",
       "      <td>3</td>\n",
       "    </tr>\n",
       "    <tr>\n",
       "      <th>4</th>\n",
       "      <td>2021-03-01</td>\n",
       "      <td>5</td>\n",
       "    </tr>\n",
       "    <tr>\n",
       "      <th>...</th>\n",
       "      <td>...</td>\n",
       "      <td>...</td>\n",
       "    </tr>\n",
       "    <tr>\n",
       "      <th>7645</th>\n",
       "      <td>2022-03-28</td>\n",
       "      <td>19</td>\n",
       "    </tr>\n",
       "    <tr>\n",
       "      <th>7646</th>\n",
       "      <td>2022-03-28</td>\n",
       "      <td>20</td>\n",
       "    </tr>\n",
       "    <tr>\n",
       "      <th>7647</th>\n",
       "      <td>2022-03-28</td>\n",
       "      <td>21</td>\n",
       "    </tr>\n",
       "    <tr>\n",
       "      <th>7648</th>\n",
       "      <td>2022-03-28</td>\n",
       "      <td>22</td>\n",
       "    </tr>\n",
       "    <tr>\n",
       "      <th>7649</th>\n",
       "      <td>2022-03-28</td>\n",
       "      <td>23</td>\n",
       "    </tr>\n",
       "  </tbody>\n",
       "</table>\n",
       "<p>7650 rows × 2 columns</p>\n",
       "</div>"
      ],
      "text/plain": [
       "            date  hour\n",
       "0     2021-03-01     0\n",
       "1     2021-03-01     1\n",
       "2     2021-03-01     2\n",
       "3     2021-03-01     3\n",
       "4     2021-03-01     5\n",
       "...          ...   ...\n",
       "7645  2022-03-28    19\n",
       "7646  2022-03-28    20\n",
       "7647  2022-03-28    21\n",
       "7648  2022-03-28    22\n",
       "7649  2022-03-28    23\n",
       "\n",
       "[7650 rows x 2 columns]"
      ]
     },
     "execution_count": 79,
     "metadata": {},
     "output_type": "execute_result"
    }
   ],
   "source": [
    "test1=pd.read_csv('test_6QvDdzb.csv')\n",
    "test1"
   ]
  },
  {
   "cell_type": "code",
   "execution_count": 83,
   "id": "eed18bdc",
   "metadata": {},
   "outputs": [],
   "source": [
    "\n",
    "test1['demand'] = y_test.round()"
   ]
  },
  {
   "cell_type": "code",
   "execution_count": 84,
   "id": "04fc1ce1",
   "metadata": {},
   "outputs": [
    {
     "data": {
      "text/html": [
       "<div>\n",
       "<style scoped>\n",
       "    .dataframe tbody tr th:only-of-type {\n",
       "        vertical-align: middle;\n",
       "    }\n",
       "\n",
       "    .dataframe tbody tr th {\n",
       "        vertical-align: top;\n",
       "    }\n",
       "\n",
       "    .dataframe thead th {\n",
       "        text-align: right;\n",
       "    }\n",
       "</style>\n",
       "<table border=\"1\" class=\"dataframe\">\n",
       "  <thead>\n",
       "    <tr style=\"text-align: right;\">\n",
       "      <th></th>\n",
       "      <th>date</th>\n",
       "      <th>hour</th>\n",
       "      <th>demand</th>\n",
       "    </tr>\n",
       "  </thead>\n",
       "  <tbody>\n",
       "    <tr>\n",
       "      <th>0</th>\n",
       "      <td>2021-03-01</td>\n",
       "      <td>0</td>\n",
       "      <td>54.0</td>\n",
       "    </tr>\n",
       "    <tr>\n",
       "      <th>1</th>\n",
       "      <td>2021-03-01</td>\n",
       "      <td>1</td>\n",
       "      <td>55.0</td>\n",
       "    </tr>\n",
       "    <tr>\n",
       "      <th>2</th>\n",
       "      <td>2021-03-01</td>\n",
       "      <td>2</td>\n",
       "      <td>55.0</td>\n",
       "    </tr>\n",
       "    <tr>\n",
       "      <th>3</th>\n",
       "      <td>2021-03-01</td>\n",
       "      <td>3</td>\n",
       "      <td>55.0</td>\n",
       "    </tr>\n",
       "    <tr>\n",
       "      <th>4</th>\n",
       "      <td>2021-03-01</td>\n",
       "      <td>5</td>\n",
       "      <td>56.0</td>\n",
       "    </tr>\n",
       "    <tr>\n",
       "      <th>...</th>\n",
       "      <td>...</td>\n",
       "      <td>...</td>\n",
       "      <td>...</td>\n",
       "    </tr>\n",
       "    <tr>\n",
       "      <th>7645</th>\n",
       "      <td>2022-03-28</td>\n",
       "      <td>19</td>\n",
       "      <td>71.0</td>\n",
       "    </tr>\n",
       "    <tr>\n",
       "      <th>7646</th>\n",
       "      <td>2022-03-28</td>\n",
       "      <td>20</td>\n",
       "      <td>63.0</td>\n",
       "    </tr>\n",
       "    <tr>\n",
       "      <th>7647</th>\n",
       "      <td>2022-03-28</td>\n",
       "      <td>21</td>\n",
       "      <td>59.0</td>\n",
       "    </tr>\n",
       "    <tr>\n",
       "      <th>7648</th>\n",
       "      <td>2022-03-28</td>\n",
       "      <td>22</td>\n",
       "      <td>59.0</td>\n",
       "    </tr>\n",
       "    <tr>\n",
       "      <th>7649</th>\n",
       "      <td>2022-03-28</td>\n",
       "      <td>23</td>\n",
       "      <td>53.0</td>\n",
       "    </tr>\n",
       "  </tbody>\n",
       "</table>\n",
       "<p>7650 rows × 3 columns</p>\n",
       "</div>"
      ],
      "text/plain": [
       "            date  hour  demand\n",
       "0     2021-03-01     0    54.0\n",
       "1     2021-03-01     1    55.0\n",
       "2     2021-03-01     2    55.0\n",
       "3     2021-03-01     3    55.0\n",
       "4     2021-03-01     5    56.0\n",
       "...          ...   ...     ...\n",
       "7645  2022-03-28    19    71.0\n",
       "7646  2022-03-28    20    63.0\n",
       "7647  2022-03-28    21    59.0\n",
       "7648  2022-03-28    22    59.0\n",
       "7649  2022-03-28    23    53.0\n",
       "\n",
       "[7650 rows x 3 columns]"
      ]
     },
     "execution_count": 84,
     "metadata": {},
     "output_type": "execute_result"
    }
   ],
   "source": [
    "test1"
   ]
  },
  {
   "cell_type": "code",
   "execution_count": 82,
   "id": "9177dc5e",
   "metadata": {},
   "outputs": [],
   "source": [
    "test.to_csv(\"Demand_Predicted.csv\")"
   ]
  },
  {
   "cell_type": "code",
   "execution_count": null,
   "id": "51bfd5b1",
   "metadata": {},
   "outputs": [],
   "source": []
  }
 ],
 "metadata": {
  "kernelspec": {
   "display_name": "Python 3",
   "language": "python",
   "name": "python3"
  },
  "language_info": {
   "codemirror_mode": {
    "name": "ipython",
    "version": 3
   },
   "file_extension": ".py",
   "mimetype": "text/x-python",
   "name": "python",
   "nbconvert_exporter": "python",
   "pygments_lexer": "ipython3",
   "version": "3.10.4"
  }
 },
 "nbformat": 4,
 "nbformat_minor": 5
}
